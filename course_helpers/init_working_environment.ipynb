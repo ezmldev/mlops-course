{
 "cells": [
  {
   "cell_type": "code",
   "execution_count": null,
   "metadata": {},
   "outputs": [],
   "source": [
    "import logging\n",
    "\n",
    "import pandas as pd\n",
    "\n",
    "logging.root.setLevel(logging.INFO)\n",
    "pd.set_option(\"display.max_colwidth\", None)"
   ]
  },
  {
   "cell_type": "code",
   "execution_count": null,
   "metadata": {},
   "outputs": [],
   "source": [
    "\"\"\"\n",
    "Dataset: http://archive.ics.uci.edu/dataset/380/youtube+spam+collection\n",
    "\"\"\"\n",
    "\n",
    "from pathlib import Path\n",
    "\n",
    "import pandas as pd\n",
    "\n",
    "spam_data_file = Path.cwd().parent / \"data\" / \"comments.csv\"\n",
    "if not spam_data_file.exists():\n",
    "    logging.error(f\"Can't find {spam_data_file}\")\n",
    "    raise SystemExit(1)\n",
    "\n",
    "df = pd.read_csv(spam_data_file)\n",
    "\n",
    "logging.info(f\"Loaded {len(df)} rows from {spam_data_file}\")\n",
    "df.head(10)\n"
   ]
  }
 ],
 "metadata": {
  "language_info": {
   "name": "python"
  }
 },
 "nbformat": 4,
 "nbformat_minor": 2
}
