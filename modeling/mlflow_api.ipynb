{
 "cells": [
  {
   "cell_type": "code",
   "execution_count": 5,
   "metadata": {},
   "outputs": [
    {
     "name": "stderr",
     "output_type": "stream",
     "text": [
      "\u001b[32mOK\u001b[0m - mlflow server is up and running. Setting Tracking URI to http://localhost:5000. Setting Experiment to 'Spam Detection'\n"
     ]
    },
    {
     "data": {
      "text/plain": [
       "<Experiment: artifact_location='/workspaces/mlops-course/.mlflow_data/artifacts/1', creation_time=1705925864653, experiment_id='1', last_update_time=1705925864653, lifecycle_stage='active', name='Spam Detection', tags={}>"
      ]
     },
     "execution_count": 5,
     "metadata": {},
     "output_type": "execute_result"
    }
   ],
   "source": [
    "from course_helpers import mlflow_connect\n",
    "\n",
    "mlflow_connect()"
   ]
  },
  {
   "cell_type": "code",
   "execution_count": 6,
   "metadata": {},
   "outputs": [],
   "source": [
    "import mlflow\n",
    "\n",
    "mlflow_client = mlflow.tracking.MlflowClient()"
   ]
  },
  {
   "cell_type": "code",
   "execution_count": 9,
   "metadata": {},
   "outputs": [
    {
     "name": "stdout",
     "output_type": "stream",
     "text": [
      "Experiment name = Spam Detection, experiment_id = 1\n",
      "Experiment name = Default, experiment_id = 0\n"
     ]
    }
   ],
   "source": [
    "experiments = mlflow_client.search_experiments()\n",
    "for e in experiments:\n",
    "    print(f\"Experiment name = {e.name}, experiment_id = {e.experiment_id}\")"
   ]
  },
  {
   "cell_type": "code",
   "execution_count": 13,
   "metadata": {},
   "outputs": [
    {
     "name": "stdout",
     "output_type": "stream",
     "text": [
      "Our experiment's name is Spam Detection.\n"
     ]
    }
   ],
   "source": [
    "from course_helpers import MLFLOW_EXPERIMENT_NAME\n",
    "\n",
    "print(f\"Our experiment's name is {MLFLOW_EXPERIMENT_NAME}.\")"
   ]
  },
  {
   "cell_type": "code",
   "execution_count": 16,
   "metadata": {},
   "outputs": [
    {
     "name": "stdout",
     "output_type": "stream",
     "text": [
      "Experiment name = Spam Detection, experiment_id = 1\n"
     ]
    }
   ],
   "source": [
    "experiments = mlflow_client.search_experiments(filter_string=f\"name='{MLFLOW_EXPERIMENT_NAME}'\")\n",
    "for e in experiments:\n",
    "    print(f\"Experiment name = {e.name}, experiment_id = {e.experiment_id}\")\n",
    "experiment_id = e.experiment_id\n"
   ]
  },
  {
   "cell_type": "code",
   "execution_count": 28,
   "metadata": {},
   "outputs": [
    {
     "name": "stdout",
     "output_type": "stream",
     "text": [
      "Run id = 75b1a1296f484de7b5059c5e8ad341c3, name = Naive Bayes\n",
      "Run id = 6aa51dba2c2748319794a323ca5d2073, name = Logistic Regression\n",
      "Run id = 443daebcc11540539d4bf8f8f2e6f991, name = Random Forest\n",
      "Run id = 24dcc6b8a0b74518beddf56c234cb6be, name = gifted-moose-468\n",
      "Run id = 6d9d43e6e497450ba4218c4fc341f3e0, name = debonair-owl-682\n",
      "Run id = 781775986387423db62df9aa70aace08, name = placid-seal-20\n",
      "Run id = c47e36127f8641ecb5052f25509e7e6d, name = salty-fawn-36\n",
      "Run id = df73238f40154b4f94d4588211bc3641, name = melodic-grub-440\n",
      "Run id = ec8043bd05ad4bb0bfbfe79126b22e89, name = Best RF Model - Hyperparameter Tuning\n"
     ]
    }
   ],
   "source": [
    "runs = mlflow_client.search_runs(experiment_ids=[experiment_id], order_by=[\"attributes.start_time\"])\n",
    "for r in runs:\n",
    "    print(f\"Run id = {r.info.run_id}, name = {r.info.run_name}\")\n",
    "last_run_id = runs[0].info.run_id"
   ]
  },
  {
   "cell_type": "code",
   "execution_count": 43,
   "metadata": {},
   "outputs": [
    {
     "name": "stdout",
     "output_type": "stream",
     "text": [
      "Run id = 75b1a1296f484de7b5059c5e8ad341c3, name = Naive Bayes\n",
      "Run id = 6aa51dba2c2748319794a323ca5d2073, name = Logistic Regression\n",
      "Run id = 443daebcc11540539d4bf8f8f2e6f991, name = Random Forest\n",
      "Run id = 24dcc6b8a0b74518beddf56c234cb6be, name = gifted-moose-468\n",
      "Run id = 6d9d43e6e497450ba4218c4fc341f3e0, name = debonair-owl-682\n",
      "Run id = 781775986387423db62df9aa70aace08, name = placid-seal-20\n",
      "Run id = c47e36127f8641ecb5052f25509e7e6d, name = salty-fawn-36\n",
      "Run id = df73238f40154b4f94d4588211bc3641, name = melodic-grub-440\n",
      "Run id = ec8043bd05ad4bb0bfbfe79126b22e89, name = Best RF Model - Hyperparameter Tuning\n"
     ]
    }
   ],
   "source": [
    "runs = mlflow_client.search_runs(experiment_ids=[experiment_id], order_by=[\"attributes.start_time\"])\n",
    "for r in runs:\n",
    "    print(f\"Run id = {r.info.run_id}, name = {r.info.run_name}\")\n",
    "last_run_id = r.info.run_id"
   ]
  },
  {
   "cell_type": "code",
   "execution_count": 44,
   "metadata": {},
   "outputs": [
    {
     "name": "stdout",
     "output_type": "stream",
     "text": [
      "Run info:\n",
      "{   'artifact_uri': '/workspaces/mlops-course/.mlflow_data/artifacts/1/ec8043bd05ad4bb0bfbfe79126b22e89/artifacts',\n",
      "    'end_time': 1705925878008,\n",
      "    'experiment_id': '1',\n",
      "    'lifecycle_stage': 'active',\n",
      "    'run_id': 'ec8043bd05ad4bb0bfbfe79126b22e89',\n",
      "    'run_name': 'Best RF Model - Hyperparameter Tuning',\n",
      "    'run_uuid': 'ec8043bd05ad4bb0bfbfe79126b22e89',\n",
      "    'start_time': 1705925877772,\n",
      "    'status': 'FINISHED',\n",
      "    'user_id': 'vscode'}\n",
      "Run data:\n",
      "{   'metrics': {'accuracy': 0.9776357827476039},\n",
      "    'params': {   'max_depth': 'None',\n",
      "                  'min_samples_split': '2',\n",
      "                  'model': 'Random Forest CV',\n",
      "                  'n_estimators': '200'},\n",
      "    'tags': {   'mlflow.runName': 'Best RF Model - Hyperparameter Tuning',\n",
      "                'mlflow.source.name': '/home/vscode/.local/lib/python3.11/site-packages/ipykernel_launcher.py',\n",
      "                'mlflow.source.type': 'LOCAL',\n",
      "                'mlflow.user': 'vscode'}}\n"
     ]
    }
   ],
   "source": [
    "import pprint\n",
    "\n",
    "last_run = mlflow_client.get_run(last_run_id)\n",
    "\n",
    "print(\"Run info:\")\n",
    "pprint.PrettyPrinter(indent=4).pprint(dict(last_run.info))\n",
    "\n",
    "print(\"Run data:\")\n",
    "pprint.PrettyPrinter(indent=4).pprint(dict(last_run.data))\n"
   ]
  },
  {
   "cell_type": "code",
   "execution_count": null,
   "metadata": {},
   "outputs": [],
   "source": []
  }
 ],
 "metadata": {
  "kernelspec": {
   "display_name": "Python 3",
   "language": "python",
   "name": "python3"
  },
  "language_info": {
   "codemirror_mode": {
    "name": "ipython",
    "version": 3
   },
   "file_extension": ".py",
   "mimetype": "text/x-python",
   "name": "python",
   "nbconvert_exporter": "python",
   "pygments_lexer": "ipython3",
   "version": "3.11.7"
  }
 },
 "nbformat": 4,
 "nbformat_minor": 2
}
