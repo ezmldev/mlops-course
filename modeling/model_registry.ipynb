{
 "cells": [
  {
   "cell_type": "code",
   "execution_count": 10,
   "metadata": {},
   "outputs": [
    {
     "name": "stdout",
     "output_type": "stream",
     "text": [
      "Loaded 1565 rows from /workspaces/mlops-course/data/comments.csv\n",
      "First ten rows of the dataframe `df`:\n"
     ]
    },
    {
     "data": {
      "text/html": [
       "<div>\n",
       "<style scoped>\n",
       "    .dataframe tbody tr th:only-of-type {\n",
       "        vertical-align: middle;\n",
       "    }\n",
       "\n",
       "    .dataframe tbody tr th {\n",
       "        vertical-align: top;\n",
       "    }\n",
       "\n",
       "    .dataframe thead th {\n",
       "        text-align: right;\n",
       "    }\n",
       "</style>\n",
       "<table border=\"1\" class=\"dataframe\">\n",
       "  <thead>\n",
       "    <tr style=\"text-align: right;\">\n",
       "      <th></th>\n",
       "      <th>content</th>\n",
       "      <th>is_spam</th>\n",
       "    </tr>\n",
       "  </thead>\n",
       "  <tbody>\n",
       "    <tr>\n",
       "      <th>0</th>\n",
       "      <td>Best Music Ever!!!</td>\n",
       "      <td>0</td>\n",
       "    </tr>\n",
       "    <tr>\n",
       "      <th>1</th>\n",
       "      <td>please look up DHG SONGS this is my playlist with a bunch of amazing songs</td>\n",
       "      <td>1</td>\n",
       "    </tr>\n",
       "    <tr>\n",
       "      <th>2</th>\n",
       "      <td>just :( superr!!!</td>\n",
       "      <td>0</td>\n",
       "    </tr>\n",
       "    <tr>\n",
       "      <th>3</th>\n",
       "      <td>Check out this playlist on YouTube:</td>\n",
       "      <td>1</td>\n",
       "    </tr>\n",
       "    <tr>\n",
       "      <th>4</th>\n",
       "      <td>subscribed :) btw you have a good style keep it up brother :))</td>\n",
       "      <td>1</td>\n",
       "    </tr>\n",
       "    <tr>\n",
       "      <th>5</th>\n",
       "      <td>she is horrible at acting. cringe-worhty.</td>\n",
       "      <td>0</td>\n",
       "    </tr>\n",
       "    <tr>\n",
       "      <th>6</th>\n",
       "      <td>https://m.facebook.com/story.php?story_fbid=764484966942313&amp;amp;id=754989901225153&amp;amp;ref=stream  gf</td>\n",
       "      <td>1</td>\n",
       "    </tr>\n",
       "    <tr>\n",
       "      <th>7</th>\n",
       "      <td>WOw</td>\n",
       "      <td>0</td>\n",
       "    </tr>\n",
       "    <tr>\n",
       "      <th>8</th>\n",
       "      <td>I loved this song when I was in my teenage years!</td>\n",
       "      <td>0</td>\n",
       "    </tr>\n",
       "    <tr>\n",
       "      <th>9</th>\n",
       "      <td>Where did she find all that make up in a freakin jungle?!</td>\n",
       "      <td>0</td>\n",
       "    </tr>\n",
       "  </tbody>\n",
       "</table>\n",
       "</div>"
      ],
      "text/plain": [
       "                                                                                                 content  \\\n",
       "0                                                                                     Best Music Ever!!!   \n",
       "1                            please look up DHG SONGS this is my playlist with a bunch of amazing songs    \n",
       "2                                                                                      just :( superr!!!   \n",
       "3                                                                    Check out this playlist on YouTube:   \n",
       "4                                         subscribed :) btw you have a good style keep it up brother :))   \n",
       "5                                                              she is horrible at acting. cringe-worhty.   \n",
       "6  https://m.facebook.com/story.php?story_fbid=764484966942313&amp;id=754989901225153&amp;ref=stream  gf   \n",
       "7                                                                                                    WOw   \n",
       "8                                                      I loved this song when I was in my teenage years!   \n",
       "9                                              Where did she find all that make up in a freakin jungle?!   \n",
       "\n",
       "   is_spam  \n",
       "0        0  \n",
       "1        1  \n",
       "2        0  \n",
       "3        1  \n",
       "4        1  \n",
       "5        0  \n",
       "6        1  \n",
       "7        0  \n",
       "8        0  \n",
       "9        0  "
      ]
     },
     "metadata": {},
     "output_type": "display_data"
    }
   ],
   "source": [
    "%run ../course_helpers/init_working_environment.ipynb"
   ]
  },
  {
   "cell_type": "code",
   "execution_count": 11,
   "metadata": {},
   "outputs": [
    {
     "name": "stdout",
     "output_type": "stream",
     "text": [
      "OK - mlflow server is up and running. Setting Tracking URI to http://localhost:5000. Setting Experiment to 'Spam Detection'\n"
     ]
    }
   ],
   "source": [
    "my_experiment = mlflow_connect()"
   ]
  },
  {
   "cell_type": "code",
   "execution_count": 12,
   "metadata": {},
   "outputs": [
    {
     "name": "stdout",
     "output_type": "stream",
     "text": [
      "Found run 220380c219b449a4bf1bd33dc878cc2e with name 'Basic Spam Classification Model'\n"
     ]
    }
   ],
   "source": [
    "import mlflow\n",
    "\n",
    "mlflow_client = mlflow.tracking.MlflowClient()\n",
    "runs = mlflow_client.search_runs(experiment_ids=my_experiment.experiment_id, filter_string=\"tags.mlflow.runName = 'Basic Spam Classification Model'\")\n",
    "if len(runs) == 0:\n",
    "    raise Exception(f\"No runs found for run name 'Basic Spam Classification Model' in experiment id {my_experiment.experiment_id}\")\n",
    "my_run = runs[0]\n",
    "print(f\"Found run {my_run.info.run_id} with name '{my_run.info.run_name}'\")"
   ]
  },
  {
   "cell_type": "code",
   "execution_count": 13,
   "metadata": {},
   "outputs": [
    {
     "name": "stdout",
     "output_type": "stream",
     "text": [
      "Loading model from runs:/220380c219b449a4bf1bd33dc878cc2e/spam_pipeline_model\n",
      "\n",
      "Comment: Click this link and subscribe to my channel! \t| Spam? (prediction): 1\n",
      "Comment: This is the best ever video about MLflow! \t| Spam? (prediction): 0\n"
     ]
    }
   ],
   "source": [
    "messages = [\"Click this link and subscribe to my channel!\", \"This is the best ever video about MLflow!\"]\n",
    "\n",
    "artifact_path = f\"runs:/{my_run.info.run_id}/spam_pipeline_model\"\n",
    "print(f\"Loading model from {artifact_path}\")\n",
    "print()\n",
    "\n",
    "reloaded_model = mlflow.pyfunc.load_model(artifact_path)\n",
    "\n",
    "predictions = reloaded_model.predict(messages)\n",
    "\n",
    "for message, prediction in zip(messages, predictions):\n",
    "    print(f\"Comment: {message} \\t| Spam? (prediction): {prediction}\")\n"
   ]
  },
  {
   "cell_type": "code",
   "execution_count": 7,
   "metadata": {},
   "outputs": [
    {
     "name": "stderr",
     "output_type": "stream",
     "text": [
      "Successfully registered model 'Spam Classifier'.\n",
      "2023/10/25 06:08:07 INFO mlflow.tracking._model_registry.client: Waiting up to 300 seconds for model version to finish creation. Model name: Spam Classifier, version 1\n",
      "Created version '1' of model 'Spam Classifier'.\n"
     ]
    },
    {
     "name": "stdout",
     "output_type": "stream",
     "text": [
      "Spam Classifier version 1 is in stage 'None'\n"
     ]
    }
   ],
   "source": [
    "import time\n",
    "\n",
    "MODEL_NAME_IN_REGISTRY=\"Spam Classifier\"\n",
    "\n",
    "try:\n",
    "    mlflow_client.delete_registered_model(name=MODEL_NAME_IN_REGISTRY)\n",
    "except Exception:\n",
    "    pass\n",
    "\n",
    "mlflow.register_model(model_uri=artifact_path, name=MODEL_NAME_IN_REGISTRY)\n",
    "time.sleep(2)\n",
    "\n",
    "model_info = mlflow_client.get_model_version(name=MODEL_NAME_IN_REGISTRY, version=1)\n",
    "print(f\"{model_info.name} version {model_info.version} is in stage '{model_info.current_stage}'\")"
   ]
  },
  {
   "cell_type": "code",
   "execution_count": 8,
   "metadata": {},
   "outputs": [
    {
     "name": "stdout",
     "output_type": "stream",
     "text": [
      "Spam Classifier version 1 is now in stage 'Production'\n"
     ]
    }
   ],
   "source": [
    "updated_model_info = mlflow_client.transition_model_version_stage(name=MODEL_NAME_IN_REGISTRY, version=1, stage=\"Production\")\n",
    "print(f\"{updated_model_info.name} version {updated_model_info.version} is now in stage '{updated_model_info.current_stage}'\")"
   ]
  },
  {
   "cell_type": "code",
   "execution_count": 9,
   "metadata": {},
   "outputs": [
    {
     "name": "stdout",
     "output_type": "stream",
     "text": [
      "Model 'Spam Classifier' version 1 is in stage 'Production'. Artifact path: /workspaces/mlops-course/.mlflow_data/artifacts/1/220380c219b449a4bf1bd33dc878cc2e/artifacts/spam_pipeline_model\n"
     ]
    }
   ],
   "source": [
    "for model_version in mlflow_client.search_model_versions(f\"name='{MODEL_NAME_IN_REGISTRY}'\"):\n",
    "    print(f\"Model '{model_version.name}' version {model_version.version} is in stage '{model_version.current_stage}'. Artifact path: {model_version.source}\")"
   ]
  },
  {
   "cell_type": "code",
   "execution_count": null,
   "metadata": {},
   "outputs": [
    {
     "name": "stderr",
     "output_type": "stream",
     "text": [
      "2023/10/23 06:53:01 WARNING mlflow.pyfunc: Detected one or more mismatches between the model's dependencies and the current Python environment:\n",
      " - numpy (current: 1.26.0, required: numpy==1.24.4)\n",
      " - pandas (current: 2.1.1, required: pandas==1.5.3)\n",
      " - scikit-learn (current: 1.3.1, required: scikit-learn==1.2.2)\n",
      " - mlflow (current: 2.7.1, required: mlflow==2.5)\n",
      "To fix the mismatches, call `mlflow.pyfunc.get_model_dependencies(model_uri)` to fetch the model's environment and install dependencies using the resulting environment file.\n"
     ]
    },
    {
     "name": "stderr",
     "output_type": "stream",
     "text": [
      "2023/10/23 06:53:02 WARNING mlflow.sklearn: Unrecognized dataset type <class 'list'>. Dataset logging skipped.\n"
     ]
    },
    {
     "name": "stdout",
     "output_type": "stream",
     "text": [
      "Prediction: 1\n",
      "{'model_description': 'Spam classifier trained on YouTube comments', 'model_name': 'spam_model', 'model_type': 'spam_classifier', 'model_version': 'v1', 'trained_at': '2023-10-23T06:53:01.914158'}\n"
     ]
    }
   ],
   "source": [
    "import datetime\n",
    "\n",
    "shutil.rmtree(os.path.join(PROJECT_ROOT_DIR, \"model\", \"spam_pipeline_model\"), ignore_errors=True)\n",
    "\n",
    "model_dir = os.path.join(PROJECT_ROOT_DIR, \"model\", \"spam_pipeline_model\")\n",
    "pip_requirements = [\n",
    "    \"numpy==1.24.4\",\n",
    "    \"pandas==1.5.3\",\n",
    "    \"scikit-learn==1.2.2\",\n",
    "    \"mlflow==2.5\",\n",
    "]\n",
    "\n",
    "\n",
    "class ModelWithPandas(mlflow.pyfunc.PythonModel):\n",
    "    def __init__(self, pipe_model):\n",
    "        self.model = pipe_model\n",
    "\n",
    "    def preprocess_input(self, payload):\n",
    "        if (\n",
    "            not isinstance(payload, dict)\n",
    "            or \"data\" not in payload\n",
    "            or not isinstance(payload[\"data\"], str)\n",
    "        ):\n",
    "            raise TypeError(\n",
    "                \"Request payload must be a dict in \" + '{\"data\": \"message\"} format',\n",
    "            )\n",
    "        return payload[\"data\"]\n",
    "\n",
    "    def predict(self, context, model_input):\n",
    "        processed_model_input = self.preprocess_input(model_input.copy())\n",
    "        prediction = self.model.predict([processed_model_input])[0]\n",
    "        return prediction\n",
    "\n",
    "\n",
    "model_w_preprocess = ModelWithPreprocess(pipe)\n",
    "\n",
    "mlflow.pyfunc.save_model(\n",
    "    path=model_dir,\n",
    "    python_model=model_w_preprocess,\n",
    "    code_path=[os.path.join(PROJECT_ROOT_DIR, \"train_model\", \"model_code\")],\n",
    "    pip_requirements=pip_requirements,\n",
    "    metadata={\n",
    "        \"model_type\": \"spam_classifier\",\n",
    "        \"model_name\": \"spam_model\",\n",
    "        \"model_version\": \"v1\",\n",
    "        \"model_description\": \"Spam classifier trained on YouTube comments\",\n",
    "        \"trained_at\": datetime.datetime.utcnow().isoformat(),\n",
    "       #\"accuracy\": accuracy,\n",
    "    },\n",
    ")\n",
    "\n",
    "m2 = mlflow.pyfunc.load_model(model_dir)\n",
    "print(\"Prediction: \" + str(m2.predict({\"data\": \"Come subscribe to my channel\"})))\n",
    "print(m2.metadata.metadata)\n"
   ]
  },
  {
   "cell_type": "code",
   "execution_count": null,
   "metadata": {},
   "outputs": [],
   "source": []
  }
 ],
 "metadata": {
  "kernelspec": {
   "display_name": "Python 3",
   "language": "python",
   "name": "python3"
  },
  "language_info": {
   "codemirror_mode": {
    "name": "ipython",
    "version": 3
   },
   "file_extension": ".py",
   "mimetype": "text/x-python",
   "name": "python",
   "nbconvert_exporter": "python",
   "pygments_lexer": "ipython3",
   "version": "3.11.6"
  }
 },
 "nbformat": 4,
 "nbformat_minor": 2
}
