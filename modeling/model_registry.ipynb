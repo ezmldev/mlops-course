{
 "cells": [
  {
   "cell_type": "code",
   "execution_count": 21,
   "metadata": {},
   "outputs": [],
   "source": [
    "from course_helpers import mlflow_connect"
   ]
  },
  {
   "cell_type": "code",
   "execution_count": 22,
   "metadata": {},
   "outputs": [
    {
     "name": "stderr",
     "output_type": "stream",
     "text": [
      "\u001b[32mOK\u001b[0m - mlflow server is up and running. Setting Tracking URI to http://localhost:5000. Setting Experiment to 'Spam Detection'\n"
     ]
    }
   ],
   "source": [
    "my_experiment = mlflow_connect()"
   ]
  },
  {
   "cell_type": "code",
   "execution_count": 23,
   "metadata": {},
   "outputs": [
    {
     "name": "stdout",
     "output_type": "stream",
     "text": [
      "Found run 1f4a98ed892a48abb2824e6ea2dc104c with name 'Basic Spam Classification Model'\n"
     ]
    }
   ],
   "source": [
    "import mlflow\n",
    "\n",
    "mlflow_client = mlflow.tracking.MlflowClient()\n",
    "runs = mlflow_client.search_runs(\n",
    "    experiment_ids=my_experiment.experiment_id,\n",
    "    filter_string=\"tags.mlflow.runName = 'Basic Spam Classification Model'\",\n",
    ")\n",
    "if len(runs) == 0:\n",
    "    raise Exception(\n",
    "        f\"No runs found for run name 'Basic Spam Classification Model' in experiment id {my_experiment.experiment_id}\"\n",
    "    )\n",
    "my_run = runs[0]\n",
    "print(f\"Found run {my_run.info.run_id} with name '{my_run.info.run_name}'\")"
   ]
  },
  {
   "cell_type": "code",
   "execution_count": 27,
   "metadata": {},
   "outputs": [
    {
     "name": "stdout",
     "output_type": "stream",
     "text": [
      "Loading model from runs:/1f4a98ed892a48abb2824e6ea2dc104c/spam_pipeline_model\n",
      "\n"
     ]
    },
    {
     "data": {
      "text/html": [
       "<div>\n",
       "<style scoped>\n",
       "    .dataframe tbody tr th:only-of-type {\n",
       "        vertical-align: middle;\n",
       "    }\n",
       "\n",
       "    .dataframe tbody tr th {\n",
       "        vertical-align: top;\n",
       "    }\n",
       "\n",
       "    .dataframe thead th {\n",
       "        text-align: right;\n",
       "    }\n",
       "</style>\n",
       "<table border=\"1\" class=\"dataframe\">\n",
       "  <thead>\n",
       "    <tr style=\"text-align: right;\">\n",
       "      <th></th>\n",
       "      <th>content</th>\n",
       "      <th>prediction</th>\n",
       "    </tr>\n",
       "  </thead>\n",
       "  <tbody>\n",
       "    <tr>\n",
       "      <th>0</th>\n",
       "      <td>Click this link and subscribe to my channel!</td>\n",
       "      <td>1</td>\n",
       "    </tr>\n",
       "    <tr>\n",
       "      <th>1</th>\n",
       "      <td>This is the best ever video about MLflow!</td>\n",
       "      <td>0</td>\n",
       "    </tr>\n",
       "  </tbody>\n",
       "</table>\n",
       "</div>"
      ],
      "text/plain": [
       "                                        content  prediction\n",
       "0  Click this link and subscribe to my channel!           1\n",
       "1     This is the best ever video about MLflow!           0"
      ]
     },
     "execution_count": 27,
     "metadata": {},
     "output_type": "execute_result"
    }
   ],
   "source": [
    "content_df = pd.DataFrame(\n",
    "    {\n",
    "        \"content\": [\n",
    "            \"Click this link and subscribe to my channel!\",\n",
    "            \"This is the best ever video about MLflow!\",\n",
    "        ]\n",
    "    }\n",
    ")\n",
    "\n",
    "artifact_path = f\"runs:/{my_run.info.run_id}/spam_pipeline_model\"\n",
    "print(f\"Loading model from {artifact_path}\")\n",
    "print()\n",
    "\n",
    "reloaded_model = mlflow.pyfunc.load_model(artifact_path)\n",
    "predictions = reloaded_model.predict(content_df)\n",
    "\n",
    "pred_df = content_df.assign(prediction=predictions)\n",
    "pred_df.head()"
   ]
  },
  {
   "cell_type": "code",
   "execution_count": 28,
   "metadata": {},
   "outputs": [
    {
     "name": "stderr",
     "output_type": "stream",
     "text": [
      "Successfully registered model 'Spam Classifier'.\n",
      "2023/10/26 07:12:21 INFO mlflow.tracking._model_registry.client: Waiting up to 300 seconds for model version to finish creation. Model name: Spam Classifier, version 1\n",
      "Created version '1' of model 'Spam Classifier'.\n"
     ]
    },
    {
     "name": "stdout",
     "output_type": "stream",
     "text": [
      "Spam Classifier version 1 is in stage 'None'\n"
     ]
    }
   ],
   "source": [
    "import time\n",
    "\n",
    "MODEL_NAME_IN_REGISTRY = \"Spam Classifier\"\n",
    "\n",
    "try:\n",
    "    mlflow_client.delete_registered_model(name=MODEL_NAME_IN_REGISTRY)\n",
    "except Exception:\n",
    "    pass\n",
    "\n",
    "mlflow.register_model(model_uri=artifact_path, name=MODEL_NAME_IN_REGISTRY)\n",
    "time.sleep(2)\n",
    "\n",
    "model_info = mlflow_client.get_model_version(name=MODEL_NAME_IN_REGISTRY, version=1)\n",
    "print(\n",
    "    f\"{model_info.name} version {model_info.version} is in stage '{model_info.current_stage}'\"\n",
    ")"
   ]
  },
  {
   "cell_type": "code",
   "execution_count": 29,
   "metadata": {},
   "outputs": [
    {
     "name": "stdout",
     "output_type": "stream",
     "text": [
      "Spam Classifier version 1 is now in stage 'Production'\n"
     ]
    }
   ],
   "source": [
    "updated_model_info = mlflow_client.transition_model_version_stage(\n",
    "    name=MODEL_NAME_IN_REGISTRY, version=1, stage=\"Production\"\n",
    ")\n",
    "print(\n",
    "    f\"{updated_model_info.name} version {updated_model_info.version} is now in stage '{updated_model_info.current_stage}'\"\n",
    ")"
   ]
  },
  {
   "cell_type": "code",
   "execution_count": 35,
   "metadata": {},
   "outputs": [
    {
     "name": "stdout",
     "output_type": "stream",
     "text": [
      "Model 'Spam Classifier' version 1 is in stage 'Production'. Artifact path: /workspaces/mlops-course/.mlflow_data/artifacts/1/1f4a98ed892a48abb2824e6ea2dc104c/artifacts/spam_pipeline_model\n"
     ]
    }
   ],
   "source": [
    "for model_version in mlflow_client.search_model_versions(\n",
    "    f\"name='{MODEL_NAME_IN_REGISTRY}'\"\n",
    "):\n",
    "    print(\n",
    "        f\"Model '{model_version.name}' version {model_version.version} is in stage '{model_version.current_stage}'. Artifact path: {model_version.source}\"\n",
    "    )"
   ]
  }
 ],
 "metadata": {
  "kernelspec": {
   "display_name": "Python 3",
   "language": "python",
   "name": "python3"
  },
  "language_info": {
   "codemirror_mode": {
    "name": "ipython",
    "version": 3
   },
   "file_extension": ".py",
   "mimetype": "text/x-python",
   "name": "python",
   "nbconvert_exporter": "python",
   "pygments_lexer": "ipython3",
   "version": "3.11.6"
  }
 },
 "nbformat": 4,
 "nbformat_minor": 2
}
