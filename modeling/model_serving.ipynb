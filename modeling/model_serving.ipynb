{
 "cells": [
  {
   "cell_type": "code",
   "execution_count": 1,
   "metadata": {},
   "outputs": [
    {
     "name": "stdout",
     "output_type": "stream",
     "text": [
      "Loaded 1565 rows from /workspaces/mlops-course/data/comments.csv\n",
      "First ten rows of the dataframe `df`:\n"
     ]
    },
    {
     "data": {
      "text/html": [
       "<div>\n",
       "<style scoped>\n",
       "    .dataframe tbody tr th:only-of-type {\n",
       "        vertical-align: middle;\n",
       "    }\n",
       "\n",
       "    .dataframe tbody tr th {\n",
       "        vertical-align: top;\n",
       "    }\n",
       "\n",
       "    .dataframe thead th {\n",
       "        text-align: right;\n",
       "    }\n",
       "</style>\n",
       "<table border=\"1\" class=\"dataframe\">\n",
       "  <thead>\n",
       "    <tr style=\"text-align: right;\">\n",
       "      <th></th>\n",
       "      <th>content</th>\n",
       "      <th>is_spam</th>\n",
       "    </tr>\n",
       "  </thead>\n",
       "  <tbody>\n",
       "    <tr>\n",
       "      <th>0</th>\n",
       "      <td>Best Music Ever!!!</td>\n",
       "      <td>0</td>\n",
       "    </tr>\n",
       "    <tr>\n",
       "      <th>1</th>\n",
       "      <td>please look up DHG SONGS this is my playlist with a bunch of amazing songs</td>\n",
       "      <td>1</td>\n",
       "    </tr>\n",
       "    <tr>\n",
       "      <th>2</th>\n",
       "      <td>just :( superr!!!</td>\n",
       "      <td>0</td>\n",
       "    </tr>\n",
       "    <tr>\n",
       "      <th>3</th>\n",
       "      <td>Check out this playlist on YouTube:</td>\n",
       "      <td>1</td>\n",
       "    </tr>\n",
       "    <tr>\n",
       "      <th>4</th>\n",
       "      <td>subscribed :) btw you have a good style keep it up brother :))</td>\n",
       "      <td>1</td>\n",
       "    </tr>\n",
       "    <tr>\n",
       "      <th>5</th>\n",
       "      <td>she is horrible at acting. cringe-worhty.</td>\n",
       "      <td>0</td>\n",
       "    </tr>\n",
       "    <tr>\n",
       "      <th>6</th>\n",
       "      <td>https://m.facebook.com/story.php?story_fbid=764484966942313&amp;amp;id=754989901225153&amp;amp;ref=stream  gf</td>\n",
       "      <td>1</td>\n",
       "    </tr>\n",
       "    <tr>\n",
       "      <th>7</th>\n",
       "      <td>WOw</td>\n",
       "      <td>0</td>\n",
       "    </tr>\n",
       "    <tr>\n",
       "      <th>8</th>\n",
       "      <td>I loved this song when I was in my teenage years!</td>\n",
       "      <td>0</td>\n",
       "    </tr>\n",
       "    <tr>\n",
       "      <th>9</th>\n",
       "      <td>Where did she find all that make up in a freakin jungle?!</td>\n",
       "      <td>0</td>\n",
       "    </tr>\n",
       "  </tbody>\n",
       "</table>\n",
       "</div>"
      ],
      "text/plain": [
       "                                                                                                 content  \\\n",
       "0                                                                                     Best Music Ever!!!   \n",
       "1                            please look up DHG SONGS this is my playlist with a bunch of amazing songs    \n",
       "2                                                                                      just :( superr!!!   \n",
       "3                                                                    Check out this playlist on YouTube:   \n",
       "4                                         subscribed :) btw you have a good style keep it up brother :))   \n",
       "5                                                              she is horrible at acting. cringe-worhty.   \n",
       "6  https://m.facebook.com/story.php?story_fbid=764484966942313&amp;id=754989901225153&amp;ref=stream  gf   \n",
       "7                                                                                                    WOw   \n",
       "8                                                      I loved this song when I was in my teenage years!   \n",
       "9                                              Where did she find all that make up in a freakin jungle?!   \n",
       "\n",
       "   is_spam  \n",
       "0        0  \n",
       "1        1  \n",
       "2        0  \n",
       "3        1  \n",
       "4        1  \n",
       "5        0  \n",
       "6        1  \n",
       "7        0  \n",
       "8        0  \n",
       "9        0  "
      ]
     },
     "metadata": {},
     "output_type": "display_data"
    }
   ],
   "source": [
    "%run ../course_helpers/init_working_environment.ipynb"
   ]
  },
  {
   "cell_type": "code",
   "execution_count": 2,
   "metadata": {},
   "outputs": [
    {
     "name": "stdout",
     "output_type": "stream",
     "text": [
      "OK - mlflow server is up and running. Setting Tracking URI to http://localhost:5000. Setting Experiment to 'Spam Detection'\n"
     ]
    }
   ],
   "source": [
    "my_experiment = mlflow_connect()"
   ]
  },
  {
   "cell_type": "code",
   "execution_count": 12,
   "metadata": {},
   "outputs": [
    {
     "name": "stdout",
     "output_type": "stream",
     "text": [
      "Model saved to /workspaces/mlops-course/models/spam_pipeline_model_pandas\n"
     ]
    }
   ],
   "source": [
    "import mlflow\n",
    "\n",
    "from sklearn.ensemble import RandomForestClassifier\n",
    "from sklearn.feature_extraction.text import CountVectorizer\n",
    "from sklearn.model_selection import train_test_split\n",
    "from sklearn.pipeline import Pipeline\n",
    "from sklearn.compose import ColumnTransformer\n",
    "\n",
    "# Initialize Random Forest model with best parameters\n",
    "count_vectorizer = CountVectorizer()\n",
    "best_params = {'max_depth': None, 'min_samples_split': 2, 'n_estimators': 200}\n",
    "rf = RandomForestClassifier(random_state=42, **best_params)\n",
    "\n",
    "X = df[[\"content\"]]\n",
    "y = df[\"is_spam\"]\n",
    "\n",
    "X_train, X_test, y_train, y_test = train_test_split(\n",
    "    X, y, test_size=0.2, random_state=42\n",
    ")\n",
    "\n",
    "col_trans = ColumnTransformer(\n",
    "        transformers=[\n",
    "            ('text_data', count_vectorizer, 'content')  # Apply CountVectorizer directly to the 'text' column\n",
    "        ],\n",
    "        remainder='drop'\n",
    "    )\n",
    "\n",
    "mlflow.sklearn.autolog(disable=True)\n",
    "pipe = Pipeline([('Pandas Count Vectorizer', col_trans), ('RandomForest', rf)])\n",
    "pipe.fit(X_train, y_train)\n",
    "\n",
    "MODEL_PATH=f\"{PROJECT_ROOT_DIR}/models/spam_pipeline_model_pandas\"\n",
    "import shutil\n",
    "shutil.rmtree(MODEL_PATH, ignore_errors=True)\n",
    "model_info = mlflow.sklearn.save_model(pipe, MODEL_PATH)\n",
    "print(f'Model saved to {MODEL_PATH}')"
   ]
  },
  {
   "cell_type": "code",
   "execution_count": 13,
   "metadata": {},
   "outputs": [
    {
     "ename": "NameError",
     "evalue": "name 'run' is not defined",
     "output_type": "error",
     "traceback": [
      "\u001b[0;31m---------------------------------------------------------------------------\u001b[0m",
      "\u001b[0;31mNameError\u001b[0m                                 Traceback (most recent call last)",
      "Cell \u001b[0;32mIn[13], line 3\u001b[0m\n\u001b[1;32m      1\u001b[0m messages \u001b[39m=\u001b[39m [\u001b[39m\"\u001b[39m\u001b[39mClick this link and subscribe to my channel!\u001b[39m\u001b[39m\"\u001b[39m, \u001b[39m\"\u001b[39m\u001b[39mThis is the best ever video about MLflow!\u001b[39m\u001b[39m\"\u001b[39m]\n\u001b[0;32m----> 3\u001b[0m artifact_path \u001b[39m=\u001b[39m \u001b[39mf\u001b[39m\u001b[39m\"\u001b[39m\u001b[39mruns:/\u001b[39m\u001b[39m{\u001b[39;00mrun\u001b[39m.\u001b[39minfo\u001b[39m.\u001b[39mrun_id\u001b[39m}\u001b[39;00m\u001b[39m/spam_pipeline_model\u001b[39m\u001b[39m\"\u001b[39m\n\u001b[1;32m      4\u001b[0m \u001b[39mprint\u001b[39m(\u001b[39mf\u001b[39m\u001b[39m\"\u001b[39m\u001b[39mLoading model from \u001b[39m\u001b[39m{\u001b[39;00martifact_path\u001b[39m}\u001b[39;00m\u001b[39m\"\u001b[39m)\n\u001b[1;32m      5\u001b[0m \u001b[39mprint\u001b[39m()\n",
      "\u001b[0;31mNameError\u001b[0m: name 'run' is not defined"
     ]
    }
   ],
   "source": [
    "messages = [\"Click this link and subscribe to my channel!\", \"This is the best ever video about MLflow!\"]\n",
    "\n",
    "artifact_path = f\"runs:/{run.info.run_id}/spam_pipeline_model\"\n",
    "print(f\"Loading model from {artifact_path}\")\n",
    "print()\n",
    "\n",
    "reloaded_model = mlflow.sklearn.load_model(artifact_path)\n",
    "\n",
    "predictions = reloaded_model.predict(X_test)\n",
    "\n",
    "for message, prediction in zip(messages, predictions):\n",
    "    print(f\"Comment: {message} \\t| Spam? (prediction): {prediction}\")\n"
   ]
  }
 ],
 "metadata": {
  "kernelspec": {
   "display_name": "Python 3",
   "language": "python",
   "name": "python3"
  },
  "language_info": {
   "codemirror_mode": {
    "name": "ipython",
    "version": 3
   },
   "file_extension": ".py",
   "mimetype": "text/x-python",
   "name": "python",
   "nbconvert_exporter": "python",
   "pygments_lexer": "ipython3",
   "version": "3.11.6"
  }
 },
 "nbformat": 4,
 "nbformat_minor": 2
}
