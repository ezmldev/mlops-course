{
 "cells": [
  {
   "cell_type": "code",
   "execution_count": 2,
   "metadata": {},
   "outputs": [
    {
     "name": "stderr",
     "output_type": "stream",
     "text": [
      "INFO:root:Loaded 1565 rows from /workspaces/mlops-course/data/comments.csv. First three records:\n"
     ]
    },
    {
     "data": {
      "text/html": [
       "<div>\n",
       "<style scoped>\n",
       "    .dataframe tbody tr th:only-of-type {\n",
       "        vertical-align: middle;\n",
       "    }\n",
       "\n",
       "    .dataframe tbody tr th {\n",
       "        vertical-align: top;\n",
       "    }\n",
       "\n",
       "    .dataframe thead th {\n",
       "        text-align: right;\n",
       "    }\n",
       "</style>\n",
       "<table border=\"1\" class=\"dataframe\">\n",
       "  <thead>\n",
       "    <tr style=\"text-align: right;\">\n",
       "      <th></th>\n",
       "      <th>content</th>\n",
       "      <th>is_spam</th>\n",
       "    </tr>\n",
       "  </thead>\n",
       "  <tbody>\n",
       "    <tr>\n",
       "      <th>0</th>\n",
       "      <td>Best Music Ever!!!</td>\n",
       "      <td>0</td>\n",
       "    </tr>\n",
       "    <tr>\n",
       "      <th>1</th>\n",
       "      <td>please look up DHG SONGS this is my playlist with a bunch of amazing songs</td>\n",
       "      <td>1</td>\n",
       "    </tr>\n",
       "    <tr>\n",
       "      <th>2</th>\n",
       "      <td>just :( superr!!!</td>\n",
       "      <td>0</td>\n",
       "    </tr>\n",
       "  </tbody>\n",
       "</table>\n",
       "</div>"
      ],
      "text/plain": [
       "                                                                       content  \\\n",
       "0                                                           Best Music Ever!!!   \n",
       "1  please look up DHG SONGS this is my playlist with a bunch of amazing songs    \n",
       "2                                                            just :( superr!!!   \n",
       "\n",
       "   is_spam  \n",
       "0        0  \n",
       "1        1  \n",
       "2        0  "
      ]
     },
     "metadata": {},
     "output_type": "display_data"
    }
   ],
   "source": [
    "from course_helpers import load_dataset\n",
    "\n",
    "df = load_dataset()"
   ]
  },
  {
   "cell_type": "code",
   "execution_count": 3,
   "metadata": {},
   "outputs": [
    {
     "name": "stderr",
     "output_type": "stream",
     "text": [
      "\u001b[32mOK\u001b[0m - mlflow server is up and running. Setting Tracking URI to http://localhost:5000. Setting Experiment to 'Spam Detection'\n"
     ]
    }
   ],
   "source": [
    "my_experiment = mlflow_connect()"
   ]
  },
  {
   "cell_type": "code",
   "execution_count": 4,
   "metadata": {},
   "outputs": [
    {
     "name": "stdout",
     "output_type": "stream",
     "text": [
      "Accuracy of the Model: 0.9744408945686901\n"
     ]
    },
    {
     "name": "stderr",
     "output_type": "stream",
     "text": [
      "/usr/local/python/current/lib/python3.11/site-packages/_distutils_hack/__init__.py:33: UserWarning: Setuptools is replacing distutils.\n",
      "  warnings.warn(\"Setuptools is replacing distutils.\")\n"
     ]
    }
   ],
   "source": [
    "import mlflow\n",
    "\n",
    "from sklearn.ensemble import RandomForestClassifier\n",
    "from sklearn.feature_extraction.text import CountVectorizer\n",
    "from sklearn.model_selection import train_test_split\n",
    "from sklearn.pipeline import Pipeline\n",
    "from sklearn.metrics import accuracy_score\n",
    "from sklearn.compose import ColumnTransformer\n",
    "\n",
    "# Initialize Random Forest model with best parameters\n",
    "best_params = {\"max_depth\": None, \"min_samples_split\": 2, \"n_estimators\": 200}\n",
    "\n",
    "X = df[[\"content\"]]\n",
    "y = df[\"is_spam\"]\n",
    "\n",
    "X_train, X_test, y_train, y_test = train_test_split(\n",
    "    X, y, test_size=0.2, random_state=42\n",
    ")\n",
    "\n",
    "count_vectorizer = CountVectorizer()\n",
    "rf = RandomForestClassifier(random_state=42, **best_params)\n",
    "\n",
    "col_trans = ColumnTransformer(\n",
    "    transformers=[\n",
    "        (\n",
    "            \"text to features\",\n",
    "            count_vectorizer,\n",
    "            \"content\",\n",
    "        )  # Apply CountVectorizer directly to the 'text' column\n",
    "    ],\n",
    "    remainder=\"drop\",\n",
    ")\n",
    "\n",
    "pipe = Pipeline([(\"Preprocess\", col_trans), (\"RandomForest\", rf)])\n",
    "pipe.fit(X_train, y_train)\n",
    "y_pred = pipe.predict(X_test)\n",
    "\n",
    "accuracy = float(accuracy_score(y_test, y_pred))\n",
    "\n",
    "mlflow.sklearn.autolog(log_models=False)\n",
    "with mlflow.start_run(run_name=\"Basic Spam Classification Model\") as run:\n",
    "    model_info = mlflow.sklearn.log_model(pipe, \"spam_pipeline_model\")\n",
    "\n",
    "print(f\"Accuracy of the Model: {accuracy}\")"
   ]
  },
  {
   "cell_type": "code",
   "execution_count": 6,
   "metadata": {},
   "outputs": [
    {
     "name": "stdout",
     "output_type": "stream",
     "text": [
      "Reloading model from runs:/1f4a98ed892a48abb2824e6ea2dc104c/spam_pipeline_model\n",
      "\n"
     ]
    }
   ],
   "source": [
    "import pandas as pd\n",
    "\n",
    "artifact_path = f\"runs:/{run.info.run_id}/{model_info.artifact_path}\"\n",
    "print(f\"Reloading model from {artifact_path}\")\n",
    "print()\n",
    "\n",
    "content_df = pd.DataFrame(\n",
    "    {\n",
    "        \"content\": [\n",
    "            \"Click this link and subscribe to my channel!\",\n",
    "            \"This is the best ever video about MLflow!\",\n",
    "        ]\n",
    "    }\n",
    ")"
   ]
  },
  {
   "cell_type": "code",
   "execution_count": 7,
   "metadata": {},
   "outputs": [
    {
     "data": {
      "text/html": [
       "<div>\n",
       "<style scoped>\n",
       "    .dataframe tbody tr th:only-of-type {\n",
       "        vertical-align: middle;\n",
       "    }\n",
       "\n",
       "    .dataframe tbody tr th {\n",
       "        vertical-align: top;\n",
       "    }\n",
       "\n",
       "    .dataframe thead th {\n",
       "        text-align: right;\n",
       "    }\n",
       "</style>\n",
       "<table border=\"1\" class=\"dataframe\">\n",
       "  <thead>\n",
       "    <tr style=\"text-align: right;\">\n",
       "      <th></th>\n",
       "      <th>content</th>\n",
       "      <th>prediction</th>\n",
       "    </tr>\n",
       "  </thead>\n",
       "  <tbody>\n",
       "    <tr>\n",
       "      <th>0</th>\n",
       "      <td>Click this link and subscribe to my channel!</td>\n",
       "      <td>1</td>\n",
       "    </tr>\n",
       "    <tr>\n",
       "      <th>1</th>\n",
       "      <td>This is the best ever video about MLflow!</td>\n",
       "      <td>0</td>\n",
       "    </tr>\n",
       "  </tbody>\n",
       "</table>\n",
       "</div>"
      ],
      "text/plain": [
       "                                        content  prediction\n",
       "0  Click this link and subscribe to my channel!           1\n",
       "1     This is the best ever video about MLflow!           0"
      ]
     },
     "execution_count": 7,
     "metadata": {},
     "output_type": "execute_result"
    }
   ],
   "source": [
    "reloaded_model = mlflow.sklearn.load_model(artifact_path)\n",
    "predictions = pipe.predict(content_df)\n",
    "\n",
    "pred_df = content_df.assign(prediction=predictions)\n",
    "pred_df.head()"
   ]
  },
  {
   "cell_type": "markdown",
   "metadata": {},
   "source": [
    "Logging with extra parameters"
   ]
  },
  {
   "cell_type": "code",
   "execution_count": 13,
   "metadata": {},
   "outputs": [
    {
     "name": "stdout",
     "output_type": "stream",
     "text": [
      "Model logged with the ID: runs:/3f19d895cab3460aaea8d09738c7ed93/custom_spam_pipeline_model \n"
     ]
    }
   ],
   "source": [
    "import datetime\n",
    "\n",
    "mlflow.sklearn.autolog(disable=True)\n",
    "with mlflow.start_run(run_name=\"Custom Spam Classification Model\") as run:\n",
    "    pip_requirements = [\n",
    "        \"scikit-learn==1.2.2\",\n",
    "        \"mlflow==2.7\",\n",
    "    ]\n",
    "\n",
    "    from mlflow.models import ModelSignature, infer_signature\n",
    "    from mlflow.types.schema import Schema, ColSpec\n",
    "\n",
    "    # Option 1: Manually construct the signature object\n",
    "    input_schema = Schema(\n",
    "        [\n",
    "            ColSpec(\"string\", \"The content to be classified as spam or not spam\"),\n",
    "        ]\n",
    "    )\n",
    "    output_schema = Schema([ColSpec(\"double\", \"Content is spam (1) or not spam (0)\")])\n",
    "    signature = ModelSignature(inputs=input_schema, outputs=output_schema)\n",
    "\n",
    "    model_info = mlflow.sklearn.log_model(\n",
    "        pipe,\n",
    "        artifact_path=\"custom_spam_pipeline_model\",\n",
    "        input_example=content_df,\n",
    "        pip_requirements=pip_requirements,\n",
    "        signature=signature,\n",
    "        metadata={\n",
    "            \"model_description\": \"Spam classifier trained on YouTube comments\",\n",
    "            \"trained_at\": datetime.datetime.utcnow().isoformat(),\n",
    "            \"accuracy\": accuracy,\n",
    "        },\n",
    "    )\n",
    "\n",
    "    print(f\"Model logged with the ID: {model_info.model_uri} \")"
   ]
  }
 ],
 "metadata": {
  "kernelspec": {
   "display_name": "Python 3",
   "language": "python",
   "name": "python3"
  },
  "language_info": {
   "codemirror_mode": {
    "name": "ipython",
    "version": 3
   },
   "file_extension": ".py",
   "mimetype": "text/x-python",
   "name": "python",
   "nbconvert_exporter": "python",
   "pygments_lexer": "ipython3",
   "version": "3.11.6"
  }
 },
 "nbformat": 4,
 "nbformat_minor": 2
}
