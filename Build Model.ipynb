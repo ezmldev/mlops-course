{
 "cells": [
  {
   "cell_type": "markdown",
   "id": "c3b1a716-9d32-4076-a776-86f3df9d2eb7",
   "metadata": {},
   "source": [
    "# Data Science / Data Wrangling"
   ]
  },
  {
   "cell_type": "code",
   "execution_count": 19,
   "id": "fac5dbc1-d5a2-4b6f-a691-a519aec5055d",
   "metadata": {},
   "outputs": [
    {
     "name": "stdout",
     "output_type": "stream",
     "text": [
      "Accuracy: 1.0\n"
     ]
    },
    {
     "name": "stderr",
     "output_type": "stream",
     "text": [
      "/home/codespace/.local/lib/python3.10/site-packages/_distutils_hack/__init__.py:18: UserWarning: Distutils was imported before Setuptools, but importing Setuptools also replaces the `distutils` module in `sys.modules`. This may lead to undesirable behaviors or errors. To avoid these issues, avoid using distutils directly, ensure that setuptools is installed in the traditional way (e.g. not an editable install), and/or make sure that setuptools is always imported before distutils.\n",
      "  warnings.warn(\n",
      "/home/codespace/.local/lib/python3.10/site-packages/_distutils_hack/__init__.py:33: UserWarning: Setuptools is replacing distutils.\n",
      "  warnings.warn(\"Setuptools is replacing distutils.\")\n"
     ]
    }
   ],
   "source": [
    "import numpy as np\n",
    "import pandas as pd\n",
    "import xgboost as xgb\n",
    "from sklearn.datasets import load_iris\n",
    "from sklearn.model_selection import train_test_split\n",
    "from sklearn.metrics import accuracy_score\n",
    "\n",
    "# Load the Iris dataset\n",
    "iris = load_iris()\n",
    "X = iris.data\n",
    "y = iris.target\n",
    "\n",
    "# Split the data into training and testing sets\n",
    "X_train, X_test, y_train, y_test = train_test_split(X, y, test_size=0.2, random_state=42)\n",
    "\n",
    "# Convert the data into DMatrix format (a specific data structure used by XGBoost)\n",
    "dtrain = xgb.DMatrix(X_train, label=y_train)\n",
    "dtest = xgb.DMatrix(X_test, label=y_test)\n",
    "\n",
    "import mlflow\n",
    "import mlflow.xgboost\n",
    "\n",
    "mlflow.set_tracking_uri(\"http://localhost:5000\")\n",
    "mlflow.set_experiment(\"my-only-experiment\")\n",
    "\n",
    "with mlflow.start_run() as run:\n",
    "        \n",
    "    # Set the hyperparameters for the XGBoost model\n",
    "    params = {\n",
    "        'objective': 'multi:softmax',  # Classification task with multiple classes\n",
    "        'num_class': 3,               # Number of classes in the target variable\n",
    "        'max_depth': 10,               # Maximum depth of each tree\n",
    "        'eta': 0.1,                   # Learning rate (step size shrinkage)\n",
    "        'subsample': 0.8,             # Subsample ratio of the training instances\n",
    "        'colsample_bytree': 0.8,      # Subsample ratio of columns when constructing each tree\n",
    "        'eval_metric': 'merror'       # Evaluation metric for multi-class classification (classification error)\n",
    "    }\n",
    "\n",
    "    mlflow.log_params(params)\n",
    "    \n",
    "    \n",
    "    # Train the XGBoost model\n",
    "    num_rounds = 100  # Number of boosting rounds (iterations)\n",
    "    model = xgb.train(params, dtrain, num_rounds)\n",
    "\n",
    "    mlflow.xgboost.log_model(model, \"my_xgboost\")\n",
    "    \n",
    "    # Make predictions on the test set\n",
    "    y_pred = model.predict(dtest)\n",
    "    \n",
    "    # Convert the predicted labels to integers (as XGBoost returns float predictions)\n",
    "    y_pred = y_pred.astype(int)\n",
    "    \n",
    "    # Calculate and print the accuracy score\n",
    "    accuracy = accuracy_score(y_test, y_pred)\n",
    "    print(\"Accuracy:\", accuracy)\n",
    "\n",
    "    mlflow.log_metric(\"accuracy\", accuracy)\n"
   ]
  },
  {
   "cell_type": "markdown",
   "id": "994fc773-5a2c-4032-af5a-b028cbb9ce93",
   "metadata": {},
   "source": [
    "# CI/CD"
   ]
  },
  {
   "cell_type": "code",
   "execution_count": 18,
   "id": "601c29fa-b18d-4cf3-93f5-de9aeda1a8ed",
   "metadata": {},
   "outputs": [
    {
     "data": {
      "text/plain": [
       "array([1., 0., 2., 1., 1., 0., 1., 2., 1., 1., 2., 0., 0., 0., 0., 1., 2.,\n",
       "       1., 1., 2., 0., 2., 0., 2., 2., 2., 2., 2., 0., 0.], dtype=float32)"
      ]
     },
     "execution_count": 18,
     "metadata": {},
     "output_type": "execute_result"
    }
   ],
   "source": [
    "# Model Registered on the UI\n",
    "\n",
    "mlflow.set_tracking_uri(\"http://localhost:5000\")\n",
    "mlflow.set_registry_uri(\"http://localhost:5000\")\n",
    "\n",
    "\n",
    "reloaded_model = mlflow.xgboost.load_model(\"models:/XGBOOSTMODEL/1\")\n",
    "\n",
    "y_pred = model.predict(dtest)\n",
    "y_pred"
   ]
  },
  {
   "cell_type": "code",
   "execution_count": 26,
   "id": "0597a869-3dc4-42cc-b506-3a65084afb8b",
   "metadata": {},
   "outputs": [
    {
     "data": {
      "text/plain": [
       "<xgboost.core.Booster at 0x7f3128811a50>"
      ]
     },
     "execution_count": 26,
     "metadata": {},
     "output_type": "execute_result"
    }
   ],
   "source": [
    "# We've put v1 to Production\n",
    "\n",
    "mlflow.set_tracking_uri(\"http://localhost:5000\")\n",
    "mlflow.set_registry_uri(\"http://localhost:5000\")\n",
    "\n",
    "\n",
    "reloaded_model = mlflow.xgboost.load_model(\"models:/XGBOOSTMODEL/production\")\n",
    "\n",
    "y_pred = reloaded_model.predict(dtest)\n",
    "reloaded_model\n",
    "\n",
    "# next: Build release artifact (docker)"
   ]
  },
  {
   "cell_type": "code",
   "execution_count": 22,
   "id": "af5120dd-e981-4818-b1d2-3f752f48ce58",
   "metadata": {},
   "outputs": [
    {
     "data": {
      "text/plain": [
       "<xgboost.core.DMatrix at 0x7f31288c7910>"
      ]
     },
     "execution_count": 22,
     "metadata": {},
     "output_type": "execute_result"
    }
   ],
   "source": [
    "dtest"
   ]
  },
  {
   "cell_type": "code",
   "execution_count": 24,
   "id": "3394aa54-1572-4f0b-b0ff-25dd894e349f",
   "metadata": {},
   "outputs": [
    {
     "data": {
      "text/plain": [
       "mlflow.pyfunc.loaded_model:\n",
       "  artifact_path: my_xgboost\n",
       "  flavor: mlflow.xgboost\n",
       "  run_id: 8a734526f7a343d5957bf7238eb9f0ad"
      ]
     },
     "execution_count": 24,
     "metadata": {},
     "output_type": "execute_result"
    }
   ],
   "source": [
    "reloaded_model_pyfunc = mlflow.pyfunc.load_model(\"models:/XGBOOSTMODEL/production\")\n",
    "reloaded_model_pyfunc"
   ]
  },
  {
   "cell_type": "code",
   "execution_count": 29,
   "id": "0b95fad3-2932-4643-977f-65348c55c8cd",
   "metadata": {},
   "outputs": [
    {
     "data": {
      "text/plain": [
       "array([1., 0., 2., 1., 1., 0., 1., 2., 1., 1., 2., 0., 0., 0., 0., 1., 2.,\n",
       "       1., 1., 2., 0., 2., 0., 2., 2., 2., 2., 2., 0., 0.], dtype=float32)"
      ]
     },
     "execution_count": 29,
     "metadata": {},
     "output_type": "execute_result"
    }
   ],
   "source": [
    "# Now this eats a numpy array / pandas\n",
    "reloaded_model_pyfunc.predict(X_test)"
   ]
  },
  {
   "cell_type": "code",
   "execution_count": null,
   "id": "29999bc3-bfb6-469c-b4d8-784e9d9ceb66",
   "metadata": {},
   "outputs": [],
   "source": [
    "# Start predition service:\n",
    "MLFLOW_TRACKING_URI=http://localhost:5000 mlflow models serve -m models:/XGBOOSTMODEL/production --no-conda"
   ]
  },
  {
   "cell_type": "code",
   "execution_count": 33,
   "id": "4aa4f7ba-ffee-47ed-83ad-c503dfb8c4ad",
   "metadata": {},
   "outputs": [
    {
     "name": "stdout",
     "output_type": "stream",
     "text": [
      "{\"predictions\": [2.0, 2.0]}"
     ]
    }
   ],
   "source": [
    "!curl \\\n",
    "  -H \"content-type: application/json\" \\\n",
    "  localhost:5001/invocations \\\n",
    "  -d '{\"inputs\": [[1, 2, 3, 4], [1, 2, 3, 4]]}'"
   ]
  },
  {
   "cell_type": "code",
   "execution_count": null,
   "id": "52dac4ac-1ab1-46a9-8786-34ea7aadffae",
   "metadata": {},
   "outputs": [],
   "source": []
  }
 ],
 "metadata": {
  "kernelspec": {
   "display_name": "Python 3 (ipykernel)",
   "language": "python",
   "name": "python3"
  },
  "language_info": {
   "codemirror_mode": {
    "name": "ipython",
    "version": 3
   },
   "file_extension": ".py",
   "mimetype": "text/x-python",
   "name": "python",
   "nbconvert_exporter": "python",
   "pygments_lexer": "ipython3",
   "version": "3.10.8"
  }
 },
 "nbformat": 4,
 "nbformat_minor": 5
}
