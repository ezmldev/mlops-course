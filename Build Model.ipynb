{
 "cells": [
  {
   "cell_type": "markdown",
   "id": "c3b1a716-9d32-4076-a776-86f3df9d2eb7",
   "metadata": {},
   "source": [
    "# Data Science / Data Wrangling"
   ]
  },
  {
   "cell_type": "code",
   "execution_count": 1,
   "id": "fac5dbc1-d5a2-4b6f-a691-a519aec5055d",
   "metadata": {},
   "outputs": [
    {
     "name": "stderr",
     "output_type": "stream",
     "text": [
      "2023/08/07 08:24:35 INFO mlflow.tracking.fluent: Experiment with name 'my-only-experiment' does not exist. Creating a new experiment.\n"
     ]
    },
    {
     "name": "stdout",
     "output_type": "stream",
     "text": [
      "Accuracy: 1.0\n"
     ]
    }
   ],
   "source": [
    "import numpy as np\n",
    "import pandas as pd\n",
    "import xgboost as xgb\n",
    "from sklearn.datasets import load_iris\n",
    "from sklearn.model_selection import train_test_split\n",
    "from sklearn.metrics import accuracy_score\n",
    "\n",
    "# Load the Iris dataset\n",
    "iris = load_iris()\n",
    "X = iris.data\n",
    "y = iris.target\n",
    "\n",
    "# Split the data into training and testing sets\n",
    "X_train, X_test, y_train, y_test = train_test_split(\n",
    "    X, y, test_size=0.2, random_state=42\n",
    ")\n",
    "\n",
    "# Convert the data into DMatrix format (a specific data structure used by XGBoost)\n",
    "dtrain = xgb.DMatrix(X_train, label=y_train)\n",
    "dtest = xgb.DMatrix(X_test, label=y_test)\n",
    "\n",
    "import mlflow\n",
    "import mlflow.xgboost\n",
    "\n",
    "mlflow.set_tracking_uri(\"http://localhost:5000\")\n",
    "mlflow.set_experiment(\"my-only-experiment\")\n",
    "\n",
    "with mlflow.start_run() as run:\n",
    "    # Set the hyperparameters for the XGBoost model\n",
    "    params = {\n",
    "        \"objective\": \"multi:softmax\",  # Classification task with multiple classes\n",
    "        \"num_class\": 3,  # Number of classes in the target variable\n",
    "        \"max_depth\": 10,  # Maximum depth of each tree\n",
    "        \"eta\": 0.1,  # Learning rate (step size shrinkage)\n",
    "        \"subsample\": 0.8,  # Subsample ratio of the training instances\n",
    "        \"colsample_bytree\": 0.8,  # Subsample ratio of columns when constructing each tree\n",
    "        \"eval_metric\": \"merror\",  # Evaluation metric for multi-class classification (classification error)\n",
    "    }\n",
    "\n",
    "    mlflow.log_params(params)\n",
    "\n",
    "    # Train the XGBoost model\n",
    "    num_rounds = 100  # Number of boosting rounds (iterations)\n",
    "    model = xgb.train(params, dtrain, num_rounds)\n",
    "\n",
    "    mlflow.xgboost.log_model(model, \"my_xgboost\")\n",
    "\n",
    "    # Make predictions on the test set\n",
    "    y_pred = model.predict(dtest)\n",
    "\n",
    "    # Convert the predicted labels to integers (as XGBoost returns float predictions)\n",
    "    y_pred = y_pred.astype(int)\n",
    "\n",
    "    # Calculate and print the accuracy score\n",
    "    accuracy = accuracy_score(y_test, y_pred)\n",
    "    print(\"Accuracy:\", accuracy)\n",
    "\n",
    "    mlflow.log_metric(\"accuracy\", accuracy)"
   ]
  },
  {
   "cell_type": "markdown",
   "id": "d33a1d4f-949d-42ca-96d4-8e12fbf88a3a",
   "metadata": {},
   "source": [
    "\n",
    "mlflow.register_model(\n",
    "    f\"runs:/{run.info.run_id}/my_xgboost\", \"XGBOOSTMODEL\"\n",
    ")"
   ]
  },
  {
   "cell_type": "code",
   "execution_count": 21,
   "id": "a4527296-3772-46d8-8f53-95bb9a61af50",
   "metadata": {},
   "outputs": [
    {
     "data": {
      "text/plain": [
       "<ModelVersion: aliases=[], creation_timestamp=1691396981590, current_stage='Production', description='', last_updated_timestamp=1691398767053, name='XGBOOSTMODEL', run_id='e52d2743f8a64d75ab50d96cb63ba400', run_link='', source='mlflow-artifacts:/334997387425955836/e52d2743f8a64d75ab50d96cb63ba400/artifacts/my_xgboost', status='READY', status_message='', tags={}, user_id='', version='1'>"
      ]
     },
     "execution_count": 21,
     "metadata": {},
     "output_type": "execute_result"
    }
   ],
   "source": [
    "from mlflow import MlflowClient \n",
    "\n",
    "client = MlflowClient()\n",
    "client.transition_model_version_stage(\n",
    "    name=\"XGBOOSTMODEL\", version=1, stage=\"Production\"\n",
    ")"
   ]
  },
  {
   "cell_type": "markdown",
   "id": "63274bc5-ce2f-4826-88e3-2d41e7bf2c22",
   "metadata": {},
   "source": [
    "# Now you can check the model on mlflow ui\n",
    "http://127.0.0.1:5000/#/models\n"
   ]
  },
  {
   "cell_type": "markdown",
   "id": "994fc773-5a2c-4032-af5a-b028cbb9ce93",
   "metadata": {},
   "source": [
    "# CI/CD"
   ]
  },
  {
   "cell_type": "code",
   "execution_count": 11,
   "id": "601c29fa-b18d-4cf3-93f5-de9aeda1a8ed",
   "metadata": {},
   "outputs": [
    {
     "data": {
      "text/plain": [
       "array([1., 0., 2., 1., 1., 0., 1., 2., 1., 1., 2., 0., 0., 0., 0., 1., 2.,\n",
       "       1., 1., 2., 0., 2., 0., 2., 2., 2., 2., 2., 0., 0.], dtype=float32)"
      ]
     },
     "execution_count": 11,
     "metadata": {},
     "output_type": "execute_result"
    }
   ],
   "source": [
    "# Model Registered on the UI\n",
    "\n",
    "mlflow.set_tracking_uri(\"http://localhost:5000\")\n",
    "mlflow.set_registry_uri(\"http://localhost:5000\")\n",
    "\n",
    "\n",
    "reloaded_model = mlflow.xgboost.load_model(\"models:/XGBOOSTMODEL/1\")\n",
    "\n",
    "y_pred = model.predict(dtest)\n",
    "y_pred"
   ]
  },
  {
   "cell_type": "code",
   "execution_count": 19,
   "id": "0597a869-3dc4-42cc-b506-3a65084afb8b",
   "metadata": {},
   "outputs": [
    {
     "data": {
      "text/plain": [
       "<xgboost.core.Booster at 0x7fcc47ca9480>"
      ]
     },
     "execution_count": 19,
     "metadata": {},
     "output_type": "execute_result"
    }
   ],
   "source": [
    "# We've put v1 to Production\n",
    "\n",
    "mlflow.set_tracking_uri(\"http://localhost:5000\")\n",
    "mlflow.set_registry_uri(\"http://localhost:5000\")\n",
    "\n",
    "\n",
    "reloaded_model = mlflow.xgboost.load_model(\"models:/XGBOOSTMODEL/production\")\n",
    "\n",
    "y_pred = reloaded_model.predict(dtest)\n",
    "reloaded_model\n",
    "\n",
    "# next: Build release artifact (docker)"
   ]
  },
  {
   "cell_type": "code",
   "execution_count": 13,
   "id": "af5120dd-e981-4818-b1d2-3f752f48ce58",
   "metadata": {},
   "outputs": [
    {
     "data": {
      "text/plain": [
       "<xgboost.core.DMatrix at 0x7fcc75f24340>"
      ]
     },
     "execution_count": 13,
     "metadata": {},
     "output_type": "execute_result"
    }
   ],
   "source": [
    "dtest"
   ]
  },
  {
   "cell_type": "code",
   "execution_count": 14,
   "id": "3394aa54-1572-4f0b-b0ff-25dd894e349f",
   "metadata": {},
   "outputs": [
    {
     "data": {
      "text/plain": [
       "mlflow.pyfunc.loaded_model:\n",
       "  artifact_path: my_xgboost\n",
       "  flavor: mlflow.xgboost\n",
       "  run_id: e52d2743f8a64d75ab50d96cb63ba400"
      ]
     },
     "execution_count": 14,
     "metadata": {},
     "output_type": "execute_result"
    }
   ],
   "source": [
    "reloaded_model_pyfunc = mlflow.pyfunc.load_model(\"models:/XGBOOSTMODEL/production\")\n",
    "reloaded_model_pyfunc"
   ]
  },
  {
   "cell_type": "code",
   "execution_count": 15,
   "id": "0b95fad3-2932-4643-977f-65348c55c8cd",
   "metadata": {},
   "outputs": [
    {
     "data": {
      "text/plain": [
       "array([1., 0., 2., 1., 1., 0., 1., 2., 1., 1., 2., 0., 0., 0., 0., 1., 2.,\n",
       "       1., 1., 2., 0., 2., 0., 2., 2., 2., 2., 2., 0., 0.], dtype=float32)"
      ]
     },
     "execution_count": 15,
     "metadata": {},
     "output_type": "execute_result"
    }
   ],
   "source": [
    "# Now this eats a numpy array / pandas\n",
    "reloaded_model_pyfunc.predict(X_test)"
   ]
  },
  {
   "cell_type": "code",
   "execution_count": 16,
   "id": "29999bc3-bfb6-469c-b4d8-784e9d9ceb66",
   "metadata": {},
   "outputs": [
    {
     "ename": "SyntaxError",
     "evalue": "invalid syntax (3142634073.py, line 2)",
     "output_type": "error",
     "traceback": [
      "\u001b[0;36m  Cell \u001b[0;32mIn[16], line 2\u001b[0;36m\u001b[0m\n\u001b[0;31m    MLFLOW_TRACKING_URI=http://localhost:5000 mlflow models serve -m models:/XGBOOSTMODEL/production --no-conda\u001b[0m\n\u001b[0m                            ^\u001b[0m\n\u001b[0;31mSyntaxError\u001b[0m\u001b[0;31m:\u001b[0m invalid syntax\n"
     ]
    }
   ],
   "source": [
    "# Start predition service:\n",
    "MLFLOW_TRACKING_URI=http://localhost:5000 mlflow models serve -p 5001 -m models:/XGBOOSTMODEL/production --no-conda"
   ]
  },
  {
   "cell_type": "code",
   "execution_count": 33,
   "id": "4aa4f7ba-ffee-47ed-83ad-c503dfb8c4ad",
   "metadata": {},
   "outputs": [
    {
     "name": "stdout",
     "output_type": "stream",
     "text": [
      "{\"predictions\": [2.0, 2.0]}"
     ]
    }
   ],
   "source": [
    "!curl \\\n",
    "  -H \"content-type: application/json\" \\\n",
    "  localhost:5001/invocations \\\n",
    "  -d '{\"inputs\": [[1, 2, 3, 4], [1, 2, 3, 4]]}'"
   ]
  },
  {
   "cell_type": "code",
   "execution_count": null,
   "id": "52dac4ac-1ab1-46a9-8786-34ea7aadffae",
   "metadata": {},
   "outputs": [],
   "source": []
  }
 ],
 "metadata": {
  "kernelspec": {
   "display_name": "Python 3 (ipykernel)",
   "language": "python",
   "name": "python3"
  },
  "language_info": {
   "codemirror_mode": {
    "name": "ipython",
    "version": 3
   },
   "file_extension": ".py",
   "mimetype": "text/x-python",
   "name": "python",
   "nbconvert_exporter": "python",
   "pygments_lexer": "ipython3",
   "version": "3.10.8"
  }
 },
 "nbformat": 4,
 "nbformat_minor": 5
}
