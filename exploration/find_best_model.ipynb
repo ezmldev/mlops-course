{
 "cells": [
  {
   "cell_type": "code",
   "execution_count": 1,
   "metadata": {},
   "outputs": [
    {
     "name": "stdout",
     "output_type": "stream",
     "text": [
      "Read total 1565 rows\n"
     ]
    },
    {
     "data": {
      "text/html": [
       "<div>\n",
       "<style scoped>\n",
       "    .dataframe tbody tr th:only-of-type {\n",
       "        vertical-align: middle;\n",
       "    }\n",
       "\n",
       "    .dataframe tbody tr th {\n",
       "        vertical-align: top;\n",
       "    }\n",
       "\n",
       "    .dataframe thead th {\n",
       "        text-align: right;\n",
       "    }\n",
       "</style>\n",
       "<table border=\"1\" class=\"dataframe\">\n",
       "  <thead>\n",
       "    <tr style=\"text-align: right;\">\n",
       "      <th></th>\n",
       "      <th>content</th>\n",
       "      <th>is_spam</th>\n",
       "    </tr>\n",
       "  </thead>\n",
       "  <tbody>\n",
       "    <tr>\n",
       "      <th>0</th>\n",
       "      <td>Best Music Ever!!!﻿</td>\n",
       "      <td>0</td>\n",
       "    </tr>\n",
       "    <tr>\n",
       "      <th>1</th>\n",
       "      <td>please look up DHG SONGS this is my playlist w...</td>\n",
       "      <td>1</td>\n",
       "    </tr>\n",
       "  </tbody>\n",
       "</table>\n",
       "</div>"
      ],
      "text/plain": [
       "                                             content  is_spam\n",
       "0                                Best Music Ever!!!﻿        0\n",
       "1  please look up DHG SONGS this is my playlist w...        1"
      ]
     },
     "execution_count": 1,
     "metadata": {},
     "output_type": "execute_result"
    }
   ],
   "source": [
    "\"\"\"Create training dataset\"\"\"\n",
    "\n",
    "import csv\n",
    "import datetime\n",
    "import glob\n",
    "import os\n",
    "from pathlib import Path\n",
    "\n",
    "import pandas as pd\n",
    "from sklearn.feature_extraction.text import CountVectorizer\n",
    "from sklearn.metrics import accuracy_score\n",
    "from sklearn.model_selection import train_test_split\n",
    "from sklearn.naive_bayes import MultinomialNB\n",
    "\n",
    "data_files_dir = Path.cwd().parent / \"data\"\n",
    "df = pd.read_csv(data_files_dir / \"comments.csv\")\n",
    "\n",
    "print(f\"Read total {len(df)} rows\")\n",
    "df.head(2)"
   ]
  },
  {
   "cell_type": "code",
   "execution_count": 2,
   "metadata": {},
   "outputs": [],
   "source": [
    "vectorizer = CountVectorizer()\n",
    "v_model = vectorizer.fit(df[\"content\"])\n",
    "X = v_model.transform(df[\"content\"])\n",
    "y = df[\"is_spam\"]\n"
   ]
  },
  {
   "cell_type": "code",
   "execution_count": 3,
   "metadata": {},
   "outputs": [],
   "source": [
    "\n",
    "X_train, X_test, y_train, y_test = train_test_split(\n",
    "    X, y, test_size=0.2, random_state=42\n",
    ")\n",
    "\n"
   ]
  },
  {
   "cell_type": "code",
   "execution_count": 9,
   "metadata": {},
   "outputs": [
    {
     "name": "stderr",
     "output_type": "stream",
     "text": [
      "2023/10/15 18:14:54 INFO mlflow.tracking.fluent: Experiment with name 'spam_detection' does not exist. Creating a new experiment.\n"
     ]
    },
    {
     "data": {
      "text/plain": [
       "<Experiment: artifact_location='mlflow-artifacts:/184009001614160443', creation_time=1697393694688, experiment_id='184009001614160443', last_update_time=1697393694688, lifecycle_stage='active', name='spam_detection', tags={}>"
      ]
     },
     "execution_count": 9,
     "metadata": {},
     "output_type": "execute_result"
    }
   ],
   "source": [
    "import mlflow\n",
    "mlflow.set_tracking_uri(\"http://localhost:5000\")\n",
    "mlflow.set_experiment(\"spam_detection\")"
   ]
  },
  {
   "cell_type": "code",
   "execution_count": 19,
   "metadata": {},
   "outputs": [
    {
     "name": "stdout",
     "output_type": "stream",
     "text": [
      "NB Accuracy: 93.3%\n"
     ]
    }
   ],
   "source": [
    "with mlflow.start_run(run_name=\"Naive Bayes\"):\n",
    "    classifier = MultinomialNB()\n",
    "    classifier.fit(X_train, y_train)\n",
    "\n",
    "    y_pred = classifier.predict(X_test)\n",
    "    accuracy = float(accuracy_score(y_test, y_pred))\n",
    "\n",
    "    mlflow.log_param(\"model\", \"Naive Bayes\")\n",
    "    mlflow.log_metric(\"accuracy\", accuracy)\n",
    "\n",
    "    print(f\"Naive Bayes - Accuracy: {accuracy:.1%}\")\n"
   ]
  },
  {
   "cell_type": "code",
   "execution_count": 20,
   "metadata": {},
   "outputs": [
    {
     "name": "stdout",
     "output_type": "stream",
     "text": [
      "LogReg Accuracy: 96.8%\n"
     ]
    }
   ],
   "source": [
    "\n",
    "from sklearn.linear_model import LogisticRegression\n",
    "\n",
    "\n",
    "with mlflow.start_run(run_name=\"Logistic Regression\"):\n",
    "    classifier = LogisticRegression()\n",
    "    classifier.fit(X_train, y_train)\n",
    "\n",
    "    y_pred = classifier.predict(X_test)\n",
    "    accuracy = float(accuracy_score(y_test, y_pred))\n",
    "\n",
    "    mlflow.log_param(\"model\", \"Logistic Regression\")\n",
    "    mlflow.log_metric(\"accuracy\", accuracy)\n",
    "\n",
    "print(f\"Logistic Regression - Accuracy: {accuracy:.1%}\")"
   ]
  },
  {
   "cell_type": "code",
   "execution_count": 23,
   "metadata": {},
   "outputs": [
    {
     "name": "stderr",
     "output_type": "stream",
     "text": [
      "2023/10/15 18:25:24 WARNING mlflow.sklearn: Failed to log training dataset information to MLflow Tracking. Reason: 'Series' object has no attribute 'toarray'\n"
     ]
    },
    {
     "name": "stdout",
     "output_type": "stream",
     "text": [
      "Random Forest - Accuracy: 97.8%\n"
     ]
    }
   ],
   "source": [
    "\n",
    "from sklearn.ensemble import RandomForestClassifier\n",
    "\n",
    "with mlflow.start_run(run_name=\"Random Forest\"):\n",
    "    classifier = RandomForestClassifier(random_state=42)\n",
    "    classifier.fit(X_train, y_train)\n",
    "\n",
    "    y_pred = classifier.predict(X_test)\n",
    "    accuracy = float(accuracy_score(y_test, y_pred))\n",
    "\n",
    "\n",
    "    mlflow.log_param(\"model\", \"Logistic Regression\")\n",
    "    mlflow.log_metric(\"accuracy\", accuracy)\n",
    "\n",
    "print(f\"Random Forest - Accuracy: {accuracy:.1%}\")\n",
    "\n"
   ]
  },
  {
   "cell_type": "code",
   "execution_count": 25,
   "metadata": {},
   "outputs": [
    {
     "name": "stderr",
     "output_type": "stream",
     "text": [
      "2023/10/15 18:26:30 WARNING mlflow.utils.autologging_utils: You are using an unsupported version of sklearn. If you encounter errors during autologging, try upgrading / downgrading sklearn to a supported version, or try upgrading MLflow.\n",
      "2023/10/15 18:26:30 INFO mlflow.tracking.fluent: Autologging successfully enabled for sklearn.\n",
      "2023/10/15 18:26:30 INFO mlflow.utils.autologging_utils: Created MLflow autologging run with ID 'fa13ed31e15046faa4ec2702d3b8f171', which will track hyperparameters, performance metrics, model artifacts, and lineage information for the current sklearn workflow\n",
      "2023/10/15 18:26:30 WARNING mlflow.sklearn: Failed to log training dataset information to MLflow Tracking. Reason: 'Series' object has no attribute 'toarray'\n"
     ]
    },
    {
     "name": "stdout",
     "output_type": "stream",
     "text": [
      "Fitting 3 folds for each of 2 candidates, totalling 6 fits\n",
      "[CV] END max_depth=None, min_samples_split=2, n_estimators=200; total time=   1.5s\n",
      "[CV] END max_depth=None, min_samples_split=2, n_estimators=200; total time=   1.6s\n",
      "[CV] END max_depth=10, min_samples_split=2, n_estimators=200; total time=   0.5s\n",
      "[CV] END max_depth=None, min_samples_split=2, n_estimators=200; total time=   1.3s\n",
      "[CV] END max_depth=10, min_samples_split=2, n_estimators=200; total time=   0.7s\n",
      "[CV] END max_depth=10, min_samples_split=2, n_estimators=200; total time=   0.4s\n"
     ]
    },
    {
     "name": "stderr",
     "output_type": "stream",
     "text": [
      "2023/10/15 18:26:36 INFO mlflow.sklearn.utils: Logging the 5 best runs, no runs will be omitted.\n"
     ]
    },
    {
     "name": "stdout",
     "output_type": "stream",
     "text": [
      "Best parameters: {'max_depth': None, 'min_samples_split': 2, 'n_estimators': 200}\n",
      "Accuracy of best model: 97.764%\n"
     ]
    }
   ],
   "source": [
    "\n",
    "from sklearn.model_selection import GridSearchCV\n",
    "mlflow.autolog(log_models=False)\n",
    "\n",
    "# Create a dictionary containing the hyperparameters and their possible values\n",
    "param_grid = {\n",
    "    \"n_estimators\": [10, 50, 100, 200],  # 200\n",
    "    \"max_depth\": [None, 10, 20, 30],  # None\n",
    "    \"min_samples_split\": [2, 5, 10],  # 2\n",
    "}\n",
    "\n",
    "# DEV to make it faster\n",
    "param_grid = {\n",
    "    \"n_estimators\": [200],  # 200\n",
    "    \"max_depth\": [None, 10],  # None\n",
    "    \"min_samples_split\": [2],  # 2\n",
    "}\n",
    "\n",
    "# Create a Random Forest classifier\n",
    "rf = RandomForestClassifier(random_state=42)\n",
    "\n",
    "# Create the grid search with cross-validation\n",
    "classifier = GridSearchCV(\n",
    "    estimator=rf, param_grid=param_grid, cv=3, n_jobs=-1, verbose=2\n",
    ")\n",
    "classifier.fit(X_train, y_train)\n"
   ]
  },
  {
   "cell_type": "code",
   "execution_count": null,
   "metadata": {},
   "outputs": [],
   "source": [
    "with mlflow.start_run(run_name=\"Random Forest - Hyperparameter Tuning\"):\n",
    "\n",
    "    best_params = classifier.best_params_\n",
    "    best_model = classifier.best_estimator_\n",
    "    y_pred = best_model.predict(X_test)\n",
    "    accuracy = float(accuracy_score(y_test, y_pred))\n",
    "\n",
    "    mlflow.log_param(\"model\", \"Random Forest CV\")\n",
    "    mlflow.log_params(best_params)\n",
    "    mlflow.log_metric(\"accuracy\", accuracy)\n",
    "\n",
    "print(f\"Best parameters: {best_params}\")\n",
    "print(f\"Accuracy of best model: {accuracy:.3%}\")"
   ]
  },
  {
   "cell_type": "code",
   "execution_count": null,
   "metadata": {},
   "outputs": [],
   "source": [
    "import mlflow\n",
    "\n",
    "\n",
    "model_info = mlflow.sklearn.log_model(best_model, \"spam_model\")\n",
    "\n",
    "print(model_info.artifact_path)\n",
    "# %%\n",
    "\n",
    "artifact_path = f\"runs:/{run.info.run_id}/{model_info.artifact_path}\"\n",
    "print(artifact_path)\n",
    "\n",
    "reloaded_model = mlflow.pyfunc.load_model(artifact_path)\n",
    "\n",
    "# %%\n",
    "message = \"Come subscribe to my channel\"\n",
    "is_spam = reloaded_model.predict([message])\n",
    "print(message + \" spam? \" + str(bool(is_spam)))\n",
    "\n",
    "# %%\n",
    "import shutil\n",
    "\n",
    "shutil.rmtree(os.path.join(THIS_FOLDER, \"model\"), ignore_errors=True)\n",
    "\n",
    "model_dir = os.path.join(THIS_FOLDER, \"model\")\n",
    "pip_requirements = [\n",
    "    \"numpy==1.24.4\",\n",
    "    \"pandas==1.5.3\",\n",
    "    \"scikit-learn==1.2.2\",\n",
    "    \"mlflow==2.5\",\n",
    "]\n",
    "\n",
    "\n",
    "class ModelWithPreprocess(mlflow.pyfunc.PythonModel):\n",
    "    def __init__(self, pipe_model):\n",
    "        self.model = pipe_model\n",
    "\n",
    "    def preprocess_input(self, payload):\n",
    "        if (\n",
    "            not isinstance(payload, dict)\n",
    "            or \"data\" not in payload\n",
    "            or not isinstance(payload[\"data\"], str)\n",
    "        ):\n",
    "            raise TypeError(\n",
    "                \"Request payload must be a dict in \" + '{\"data\": \"message\"} format',\n",
    "            )\n",
    "        return payload[\"data\"]\n",
    "\n",
    "    def predict(self, context, model_input):\n",
    "        processed_model_input = self.preprocess_input(model_input.copy())\n",
    "        # proba = self.model.predict_proba([processed_model_input][0])\n",
    "        prediction = self.model.predict([processed_model_input])[0]\n",
    "        # return {\n",
    "        #    \"prediction\": prediction,\n",
    "        #    \"probability\": float(proba[1]),\n",
    "        # }\n",
    "        return prediction\n",
    "\n",
    "\n",
    "model_w_preprocess = ModelWithPreprocess(pipe)\n",
    "\n",
    "mlflow.pyfunc.save_model(\n",
    "    path=model_dir,\n",
    "    python_model=model_w_preprocess,\n",
    "    code_path=[os.path.join(THIS_FOLDER, \"model_code\")],\n",
    "    pip_requirements=pip_requirements,\n",
    "    metadata={\n",
    "        \"model_type\": \"spam_classifier\",\n",
    "        \"model_name\": \"spam_model\",\n",
    "        \"model_version\": \"v1\",\n",
    "        \"model_description\": \"Spam classifier trained on YouTube comments\",\n",
    "        \"trained_at\": datetime.datetime.utcnow().isoformat(),\n",
    "        \"accuracy\": accuracy,\n",
    "    },\n",
    ")\n",
    "\n",
    "m2 = mlflow.pyfunc.load_model(model_dir)\n",
    "print(\"Prediction: \" + str(m2.predict({\"data\": \"Come subscribe to my channel\"})))\n",
    "print(m2.metadata.metadata)\n"
   ]
  },
  {
   "cell_type": "code",
   "execution_count": null,
   "metadata": {},
   "outputs": [],
   "source": []
  },
  {
   "cell_type": "code",
   "execution_count": null,
   "metadata": {},
   "outputs": [],
   "source": []
  }
 ],
 "metadata": {
  "kernelspec": {
   "display_name": "Python 3",
   "language": "python",
   "name": "python3"
  },
  "language_info": {
   "codemirror_mode": {
    "name": "ipython",
    "version": 3
   },
   "file_extension": ".py",
   "mimetype": "text/x-python",
   "name": "python",
   "nbconvert_exporter": "python",
   "pygments_lexer": "ipython3",
   "version": "3.11.6"
  }
 },
 "nbformat": 4,
 "nbformat_minor": 2
}
