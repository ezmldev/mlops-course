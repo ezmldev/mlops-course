{
 "cells": [
  {
   "cell_type": "code",
   "execution_count": 2,
   "metadata": {},
   "outputs": [
    {
     "name": "stderr",
     "output_type": "stream",
     "text": [
      "2023/10/16 05:07:19 INFO mlflow.tracking.fluent: Experiment with name 'Spam Detection' does not exist. Creating a new experiment.\n"
     ]
    }
   ],
   "source": [
    "# Make sure that mlflow is running\n",
    "\n",
    "import mlflow\n",
    "from sklearn.ensemble import RandomForestClassifier\n",
    "from pathlib import Path\n",
    "import pandas as pd\n",
    "from sklearn.feature_extraction.text import CountVectorizer\n",
    "\n",
    "# Set up MLflow experiment\n",
    "mlflow.set_tracking_uri(\"http://localhost:5000\")\n",
    "mlflow.set_experiment(\"Spam Detection\")\n",
    "\n",
    "# Load training and test data\n",
    "data_files_dir = Path.cwd().parent / \"data\"\n",
    "df = pd.read_csv(data_files_dir / \"comments.csv\")\n",
    "\n",
    "# Create a CountrVectorizer object \n",
    "vectorizer = CountVectorizer()\n",
    "\n",
    "# Initialize Random Forest model with best parameters\n",
    "best_params = {'max_depth': None, 'min_samples_split': 2, 'n_estimators': 200}\n",
    "rf = RandomForestClassifier(random_state=42, **best_params)"
   ]
  },
  {
   "cell_type": "code",
   "execution_count": 12,
   "metadata": {},
   "outputs": [
    {
     "data": {
      "text/plain": [
       "527                           prehistoric song..has been﻿\n",
       "271     ********OMG Facebook is OLD! Check out  ------...\n",
       "1402    VOTE FOR KATY FOR THE EMAs! #KATYCATS  http://...\n",
       "1201                                          Waka waka ﻿\n",
       "59      Put famous people in the jungle for an hour an...\n",
       "                              ...                        \n",
       "208                     Check out this video on YouTube:﻿\n",
       "970     You guys should check out this EXTRAORDINARY w...\n",
       "1113                    Check out this video on YouTube:﻿\n",
       "483     ******* Facebook is LAME and so 2004! Check ou...\n",
       "58      THIS HAS MORE VIEWS THAN QUEEN AND MICHAEL JAC...\n",
       "Name: content, Length: 313, dtype: object"
      ]
     },
     "execution_count": 12,
     "metadata": {},
     "output_type": "execute_result"
    }
   ],
   "source": [
    "from sklearn.model_selection import train_test_split\n",
    "\n",
    "mlflow.start_run(run_name=\"Random Forest Pipeline\")\n",
    "\n",
    "X = df[\"content\"]\n",
    "y = df[\"is_spam\"]\n",
    "\n",
    "X_train, X_test, y_train, y_test = train_test_split(\n",
    "    X, y, test_size=0.2, random_state=42\n",
    ")\n",
    "\n",
    "X_test\n"
   ]
  },
  {
   "cell_type": "code",
   "execution_count": 18,
   "metadata": {},
   "outputs": [
    {
     "data": {
      "text/html": [
       "<style>#sk-container-id-4 {color: black;}#sk-container-id-4 pre{padding: 0;}#sk-container-id-4 div.sk-toggleable {background-color: white;}#sk-container-id-4 label.sk-toggleable__label {cursor: pointer;display: block;width: 100%;margin-bottom: 0;padding: 0.3em;box-sizing: border-box;text-align: center;}#sk-container-id-4 label.sk-toggleable__label-arrow:before {content: \"▸\";float: left;margin-right: 0.25em;color: #696969;}#sk-container-id-4 label.sk-toggleable__label-arrow:hover:before {color: black;}#sk-container-id-4 div.sk-estimator:hover label.sk-toggleable__label-arrow:before {color: black;}#sk-container-id-4 div.sk-toggleable__content {max-height: 0;max-width: 0;overflow: hidden;text-align: left;background-color: #f0f8ff;}#sk-container-id-4 div.sk-toggleable__content pre {margin: 0.2em;color: black;border-radius: 0.25em;background-color: #f0f8ff;}#sk-container-id-4 input.sk-toggleable__control:checked~div.sk-toggleable__content {max-height: 200px;max-width: 100%;overflow: auto;}#sk-container-id-4 input.sk-toggleable__control:checked~label.sk-toggleable__label-arrow:before {content: \"▾\";}#sk-container-id-4 div.sk-estimator input.sk-toggleable__control:checked~label.sk-toggleable__label {background-color: #d4ebff;}#sk-container-id-4 div.sk-label input.sk-toggleable__control:checked~label.sk-toggleable__label {background-color: #d4ebff;}#sk-container-id-4 input.sk-hidden--visually {border: 0;clip: rect(1px 1px 1px 1px);clip: rect(1px, 1px, 1px, 1px);height: 1px;margin: -1px;overflow: hidden;padding: 0;position: absolute;width: 1px;}#sk-container-id-4 div.sk-estimator {font-family: monospace;background-color: #f0f8ff;border: 1px dotted black;border-radius: 0.25em;box-sizing: border-box;margin-bottom: 0.5em;}#sk-container-id-4 div.sk-estimator:hover {background-color: #d4ebff;}#sk-container-id-4 div.sk-parallel-item::after {content: \"\";width: 100%;border-bottom: 1px solid gray;flex-grow: 1;}#sk-container-id-4 div.sk-label:hover label.sk-toggleable__label {background-color: #d4ebff;}#sk-container-id-4 div.sk-serial::before {content: \"\";position: absolute;border-left: 1px solid gray;box-sizing: border-box;top: 0;bottom: 0;left: 50%;z-index: 0;}#sk-container-id-4 div.sk-serial {display: flex;flex-direction: column;align-items: center;background-color: white;padding-right: 0.2em;padding-left: 0.2em;position: relative;}#sk-container-id-4 div.sk-item {position: relative;z-index: 1;}#sk-container-id-4 div.sk-parallel {display: flex;align-items: stretch;justify-content: center;background-color: white;position: relative;}#sk-container-id-4 div.sk-item::before, #sk-container-id-4 div.sk-parallel-item::before {content: \"\";position: absolute;border-left: 1px solid gray;box-sizing: border-box;top: 0;bottom: 0;left: 50%;z-index: -1;}#sk-container-id-4 div.sk-parallel-item {display: flex;flex-direction: column;z-index: 1;position: relative;background-color: white;}#sk-container-id-4 div.sk-parallel-item:first-child::after {align-self: flex-end;width: 50%;}#sk-container-id-4 div.sk-parallel-item:last-child::after {align-self: flex-start;width: 50%;}#sk-container-id-4 div.sk-parallel-item:only-child::after {width: 0;}#sk-container-id-4 div.sk-dashed-wrapped {border: 1px dashed gray;margin: 0 0.4em 0.5em 0.4em;box-sizing: border-box;padding-bottom: 0.4em;background-color: white;}#sk-container-id-4 div.sk-label label {font-family: monospace;font-weight: bold;display: inline-block;line-height: 1.2em;}#sk-container-id-4 div.sk-label-container {text-align: center;}#sk-container-id-4 div.sk-container {/* jupyter's `normalize.less` sets `[hidden] { display: none; }` but bootstrap.min.css set `[hidden] { display: none !important; }` so we also need the `!important` here to be able to override the default hidden behavior on the sphinx rendered scikit-learn.org. See: https://github.com/scikit-learn/scikit-learn/issues/21755 */display: inline-block !important;position: relative;}#sk-container-id-4 div.sk-text-repr-fallback {display: none;}</style><div id=\"sk-container-id-4\" class=\"sk-top-container\"><div class=\"sk-text-repr-fallback\"><pre>Pipeline(steps=[(&#x27;CountVectorizer&#x27;, CountVectorizer()),\n",
       "                (&#x27;RandomForest&#x27;,\n",
       "                 RandomForestClassifier(n_estimators=200, random_state=42))])</pre><b>In a Jupyter environment, please rerun this cell to show the HTML representation or trust the notebook. <br />On GitHub, the HTML representation is unable to render, please try loading this page with nbviewer.org.</b></div><div class=\"sk-container\" hidden><div class=\"sk-item sk-dashed-wrapped\"><div class=\"sk-label-container\"><div class=\"sk-label sk-toggleable\"><input class=\"sk-toggleable__control sk-hidden--visually\" id=\"sk-estimator-id-10\" type=\"checkbox\" ><label for=\"sk-estimator-id-10\" class=\"sk-toggleable__label sk-toggleable__label-arrow\">Pipeline</label><div class=\"sk-toggleable__content\"><pre>Pipeline(steps=[(&#x27;CountVectorizer&#x27;, CountVectorizer()),\n",
       "                (&#x27;RandomForest&#x27;,\n",
       "                 RandomForestClassifier(n_estimators=200, random_state=42))])</pre></div></div></div><div class=\"sk-serial\"><div class=\"sk-item\"><div class=\"sk-estimator sk-toggleable\"><input class=\"sk-toggleable__control sk-hidden--visually\" id=\"sk-estimator-id-11\" type=\"checkbox\" ><label for=\"sk-estimator-id-11\" class=\"sk-toggleable__label sk-toggleable__label-arrow\">CountVectorizer</label><div class=\"sk-toggleable__content\"><pre>CountVectorizer()</pre></div></div></div><div class=\"sk-item\"><div class=\"sk-estimator sk-toggleable\"><input class=\"sk-toggleable__control sk-hidden--visually\" id=\"sk-estimator-id-12\" type=\"checkbox\" ><label for=\"sk-estimator-id-12\" class=\"sk-toggleable__label sk-toggleable__label-arrow\">RandomForestClassifier</label><div class=\"sk-toggleable__content\"><pre>RandomForestClassifier(n_estimators=200, random_state=42)</pre></div></div></div></div></div></div></div>"
      ],
      "text/plain": [
       "Pipeline(steps=[('CountVectorizer', CountVectorizer()),\n",
       "                ('RandomForest',\n",
       "                 RandomForestClassifier(n_estimators=200, random_state=42))])"
      ]
     },
     "execution_count": 18,
     "metadata": {},
     "output_type": "execute_result"
    }
   ],
   "source": [
    "from sklearn.pipeline import Pipeline\n",
    "pipe = Pipeline([('CountVectorizer', vectorizer), ('RandomForest', rf)])\n",
    "pipe.fit(X_train, y_train)"
   ]
  },
  {
   "cell_type": "code",
   "execution_count": 19,
   "metadata": {},
   "outputs": [
    {
     "data": {
      "text/plain": [
       "array([0, 1, 1, 0, 0, 0, 1, 1, 1, 0, 1, 0, 0, 0, 0, 1, 1, 1, 0, 0, 1, 0,\n",
       "       1, 0, 0, 1, 1, 0, 0, 1, 1, 1, 1, 1, 0, 1, 0, 0, 0, 1, 0, 1, 1, 1,\n",
       "       0, 1, 1, 1, 0, 0, 1, 0, 1, 0, 1, 0, 0, 1, 1, 1, 0, 1, 0, 1, 1, 0,\n",
       "       1, 0, 0, 0, 1, 1, 0, 0, 0, 1, 1, 1, 0, 1, 0, 0, 0, 0, 1, 1, 1, 0,\n",
       "       0, 0, 0, 0, 1, 1, 1, 0, 1, 1, 1, 1, 1, 1, 1, 1, 1, 1, 0, 1, 1, 1,\n",
       "       0, 1, 0, 1, 1, 0, 0, 1, 1, 0, 0, 1, 1, 1, 0, 0, 1, 0, 1, 1, 0, 1,\n",
       "       1, 0, 1, 1, 1, 0, 1, 1, 0, 0, 0, 0, 1, 0, 1, 0, 1, 0, 1, 0, 0, 0,\n",
       "       1, 0, 1, 0, 0, 0, 1, 0, 1, 0, 0, 0, 1, 0, 0, 0, 1, 1, 0, 1, 1, 0,\n",
       "       0, 1, 1, 1, 1, 1, 0, 0, 1, 1, 1, 0, 1, 0, 1, 1, 0, 1, 0, 0, 1, 0,\n",
       "       0, 1, 0, 1, 1, 0, 1, 0, 0, 0, 1, 1, 0, 1, 1, 1, 0, 0, 1, 0, 0, 0,\n",
       "       1, 0, 1, 1, 1, 1, 1, 1, 1, 1, 0, 1, 1, 0, 0, 1, 0, 1, 1, 1, 1, 0,\n",
       "       0, 0, 0, 0, 0, 0, 1, 0, 0, 1, 1, 0, 0, 1, 0, 0, 0, 0, 0, 0, 0, 1,\n",
       "       1, 1, 0, 1, 1, 1, 0, 0, 1, 1, 0, 0, 0, 0, 1, 0, 1, 0, 1, 1, 1, 0,\n",
       "       0, 1, 0, 0, 0, 1, 1, 0, 0, 1, 0, 0, 1, 0, 1, 1, 0, 0, 1, 1, 0, 1,\n",
       "       1, 1, 1, 1, 0])"
      ]
     },
     "execution_count": 19,
     "metadata": {},
     "output_type": "execute_result"
    }
   ],
   "source": [
    "pipe.predict(X_test)"
   ]
  },
  {
   "cell_type": "code",
   "execution_count": 15,
   "metadata": {},
   "outputs": [
    {
     "name": "stdout",
     "output_type": "stream",
     "text": [
      "spam_model\n"
     ]
    }
   ],
   "source": [
    "\n",
    "import mlflow\n",
    "\n",
    "with mlflow.start_run(run_name=\"Random Forest Pipeline\") as run:\n",
    "    model_info = mlflow.sklearn.log_model(pipe, \"spam_model\")\n",
    "    print(model_info.artifact_path)\n"
   ]
  },
  {
   "cell_type": "code",
   "execution_count": null,
   "metadata": {},
   "outputs": [],
   "source": [
    "# %%\n",
    "\n",
    "artifact_path = f\"runs:/{run.info.run_id}/{model_info.artifact_path}\"\n",
    "print(artifact_path)\n",
    "\n",
    "reloaded_model = mlflow.pyfunc.load_model(artifact_path)\n",
    "\n",
    "# %%\n",
    "message = \"Come subscribe to my channel\"\n",
    "is_spam = reloaded_model.predict([message])\n",
    "print(message + \" spam? \" + str(bool(is_spam)))\n",
    "\n",
    "# %%\n",
    "import shutil\n",
    "\n",
    "shutil.rmtree(os.path.join(THIS_FOLDER, \"model\"), ignore_errors=True)\n",
    "\n",
    "model_dir = os.path.join(THIS_FOLDER, \"model\")\n",
    "pip_requirements = [\n",
    "    \"numpy==1.24.4\",\n",
    "    \"pandas==1.5.3\",\n",
    "    \"scikit-learn==1.2.2\",\n",
    "    \"mlflow==2.5\",\n",
    "]\n",
    "\n",
    "\n",
    "class ModelWithPreprocess(mlflow.pyfunc.PythonModel):\n",
    "    def __init__(self, pipe_model):\n",
    "        self.model = pipe_model\n",
    "\n",
    "    def preprocess_input(self, payload):\n",
    "        if (\n",
    "            not isinstance(payload, dict)\n",
    "            or \"data\" not in payload\n",
    "            or not isinstance(payload[\"data\"], str)\n",
    "        ):\n",
    "            raise TypeError(\n",
    "                \"Request payload must be a dict in \" + '{\"data\": \"message\"} format',\n",
    "            )\n",
    "        return payload[\"data\"]\n",
    "\n",
    "    def predict(self, context, model_input):\n",
    "        processed_model_input = self.preprocess_input(model_input.copy())\n",
    "        # proba = self.model.predict_proba([processed_model_input][0])\n",
    "        prediction = self.model.predict([processed_model_input])[0]\n",
    "        # return {\n",
    "        #    \"prediction\": prediction,\n",
    "        #    \"probability\": float(proba[1]),\n",
    "        # }\n",
    "        return prediction\n",
    "\n",
    "\n",
    "model_w_preprocess = ModelWithPreprocess(pipe)\n",
    "\n",
    "mlflow.pyfunc.save_model(\n",
    "    path=model_dir,\n",
    "    python_model=model_w_preprocess,\n",
    "    code_path=[os.path.join(THIS_FOLDER, \"model_code\")],\n",
    "    pip_requirements=pip_requirements,\n",
    "    metadata={\n",
    "        \"model_type\": \"spam_classifier\",\n",
    "        \"model_name\": \"spam_model\",\n",
    "        \"model_version\": \"v1\",\n",
    "        \"model_description\": \"Spam classifier trained on YouTube comments\",\n",
    "        \"trained_at\": datetime.datetime.utcnow().isoformat(),\n",
    "        \"accuracy\": accuracy,\n",
    "    },\n",
    ")\n",
    "\n",
    "m2 = mlflow.pyfunc.load_model(model_dir)\n",
    "print(\"Prediction: \" + str(m2.predict({\"data\": \"Come subscribe to my channel\"})))\n",
    "print(m2.metadata.metadata)\n"
   ]
  }
 ],
 "metadata": {
  "kernelspec": {
   "display_name": "Python 3",
   "language": "python",
   "name": "python3"
  },
  "language_info": {
   "codemirror_mode": {
    "name": "ipython",
    "version": 3
   },
   "file_extension": ".py",
   "mimetype": "text/x-python",
   "name": "python",
   "nbconvert_exporter": "python",
   "pygments_lexer": "ipython3",
   "version": "3.11.6"
  }
 },
 "nbformat": 4,
 "nbformat_minor": 2
}
